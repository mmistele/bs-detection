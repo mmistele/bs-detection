{
 "cells": [
  {
   "cell_type": "code",
   "execution_count": 3,
   "metadata": {
    "collapsed": true
   },
   "outputs": [],
   "source": [
    "import tensorflow as tf\n",
    "import os"
   ]
  },
  {
   "cell_type": "code",
   "execution_count": 28,
   "metadata": {
    "collapsed": false
   },
   "outputs": [],
   "source": [
    "with open('fake_sentences.txt') as f:\n",
    "    lines = f.readlines()\n",
    "    \n",
    "index=0\n",
    "for line in lines:\n",
    "    file_name = str(index)+'fake'\n",
    "    index+=1\n",
    "    with open(file_name, 'a') as the_file:\n",
    "        the_file.write(line+'\\n')\n",
    "    \n",
    "with open('sentence_good_format.txt') as f:\n",
    "    lines = f.readlines()\n",
    "\n",
    "index=0\n",
    "for line in lines:\n",
    "    file_name = str(index)+'real'\n",
    "    index+=1\n",
    "    \n",
    "    with open(file_name, 'a') as the_file:\n",
    "        the_file.write(line+'\\n')"
   ]
  },
  {
   "cell_type": "code",
   "execution_count": 40,
   "metadata": {
    "collapsed": false
   },
   "outputs": [],
   "source": [
    "from sklearn.naive_bayes import GaussianNB\n",
    "from sklearn.metrics import accuracy_score\n",
    "import numpy as np\n",
    "from collections import Counter\n",
    "import os\n",
    "\n",
    "\"\"\"\n",
    "    first :\n",
    "            i will make a Dictionary So it contains every Word on the Document \n",
    "            and Then Remove unwanted items .\n",
    "            unwanted items => Less Common and Have Numbers .\n",
    "            \n",
    "            So Lets Do a Function Called dic_process()\n",
    "\"\"\"\n",
    "\n",
    "TRAIN_DIR = \"./train\"\n",
    "TEST_DIR = \"./test\"\n",
    "\n",
    "def dic_process(root_dir):\n",
    "    all_words = []\n",
    "    emails= [os.path.join(root_dir,f) for f in os.listdir(root_dir)]\n",
    "    for email in emails :\n",
    "        with open (email) as m:\n",
    "            for line in m :\n",
    "                words = line.split()\n",
    "                all_words+=words\n",
    "    dictionary = Counter(all_words)\n",
    "    list_to_remove = list(dictionary.keys())\n",
    "\n",
    "    for item in list_to_remove:\n",
    "\n",
    "        if item.isalpha() == False:\n",
    "            del dictionary[item]\n",
    "        elif len(item) == 1:\n",
    "            del dictionary[item]\n",
    "    dictionary = dictionary.most_common()\n",
    "\n",
    "    return dictionary"
   ]
  },
  {
   "cell_type": "code",
   "execution_count": 75,
   "metadata": {
    "collapsed": true
   },
   "outputs": [],
   "source": [
    "\"\"\"\n",
    "    Second :\n",
    "            i will extract the features and put them in a matrix\n",
    "            \n",
    "            So Lets Do a Function Called ext_features()\n",
    "\"\"\"\n",
    "\n",
    "def ext_features(mail_dir):\n",
    "    files = [os.path.join(mail_dir,fi) for fi in os.listdir(mail_dir)]\n",
    "    feature_matrix = np.zeros(len(files))\n",
    "    train_labels = np.zeros(len(files))\n",
    "    count = 0\n",
    "    docId = 0\n",
    "\n",
    "    for fil in files :\n",
    "        with open(fil) as fi:\n",
    "            for i,line in enumerate(fi):\n",
    "                if i == 0 :\n",
    "                    words = line.split()\n",
    "                    for word in words :\n",
    "                        wordId=0\n",
    "                        for i,d in enumerate(dictionary):\n",
    "                            if d[0] == word:\n",
    "                                wordId = i\n",
    "                                feature_matrix[docId] = words.count(word)\n",
    "            train_labels[docId] = 0\n",
    "            filepathTokens = fil.split('/')\n",
    "            \n",
    "            lastToken = filepathTokens[len(filepathTokens) - 1]\n",
    "            \n",
    "            if 'real' in lastToken:\n",
    "                #print docId\n",
    "                train_labels[docId] = 1\n",
    "                count = count + 1\n",
    "            docId = docId+1\n",
    "    print feature_matrix,train_labels\n",
    "    return feature_matrix , train_labels"
   ]
  },
  {
   "cell_type": "code",
   "execution_count": 76,
   "metadata": {
    "collapsed": false
   },
   "outputs": [
    {
     "name": "stdout",
     "output_type": "stream",
     "text": [
      "reading and processing emails from file.\n",
      "[0. 1. 1. 1. 1. 1. 1. 1. 1. 1. 1. 1. 1. 2. 1. 1. 1. 2. 3. 2. 1. 0. 1. 3.\n",
      " 2. 2. 1. 1. 2. 1. 2. 4. 2. 2. 1. 1. 1. 1. 1. 2. 1. 1. 1. 1. 1. 4. 1. 5.\n",
      " 1. 1. 1. 1. 1. 1. 1. 4. 2. 1. 1. 1. 1. 1. 1. 1. 1. 1. 1. 1. 1. 1. 1. 1.\n",
      " 1. 1. 1. 1. 5. 1. 1. 2. 1. 1. 1. 2. 1. 7. 1. 1. 1. 1. 1. 4. 1. 1. 1. 1.\n",
      " 1. 1. 1. 1. 1. 1. 1. 1. 1. 1. 1. 2. 1. 1. 1. 1. 0. 1. 1. 1. 4. 1. 1. 1.\n",
      " 1. 1. 1. 1. 3. 1. 3. 8. 1. 2. 1. 1. 1. 1. 1. 1. 1. 3. 2. 2. 1. 1. 0. 1.\n",
      " 1. 2. 1. 1. 2. 1. 1. 1. 1. 1. 1. 1. 1. 1. 1. 1. 1. 1. 1. 2. 1. 1. 1. 3.\n",
      " 1. 3. 1. 1. 1. 1. 1. 1. 0. 1. 1. 1. 1. 3. 1. 8. 2. 1. 1. 2. 1. 1. 1. 1.\n",
      " 1. 3. 1. 1. 1. 2. 1. 1. 1. 1. 0.] [0. 1. 1. 1. 1. 1. 1. 1. 1. 1. 1. 1. 1. 1. 1. 1. 1. 1. 1. 1. 1. 1. 1. 1.\n",
      " 1. 1. 1. 1. 1. 0. 1. 0. 1. 0. 1. 0. 1. 0. 1. 0. 1. 0. 1. 0. 1. 0. 1. 0.\n",
      " 1. 0. 1. 0. 1. 0. 1. 0. 1. 0. 1. 0. 1. 0. 1. 0. 1. 0. 1. 0. 1. 0. 1. 0.\n",
      " 1. 0. 1. 0. 1. 0. 1. 0. 1. 0. 1. 0. 1. 0. 1. 0. 1. 0. 1. 0. 1. 0. 1. 0.\n",
      " 1. 0. 1. 0. 1. 0. 1. 0. 1. 0. 1. 0. 1. 0. 1. 0. 1. 0. 1. 0. 1. 0. 1. 0.\n",
      " 1. 0. 1. 0. 1. 0. 1. 0. 1. 0. 1. 0. 1. 0. 1. 0. 1. 0. 1. 0. 1. 0. 1. 0.\n",
      " 1. 0. 1. 0. 1. 0. 1. 0. 1. 0. 1. 0. 1. 0. 1. 0. 1. 0. 1. 0. 1. 0. 1. 0.\n",
      " 1. 0. 1. 0. 1. 0. 1. 0. 1. 0. 1. 0. 1. 0. 1. 0. 1. 0. 1. 0. 1. 0. 1. 0.\n",
      " 1. 0. 1. 0. 1. 0. 1. 0. 1. 0. 1.]\n",
      "[0. 1. 1. 1. 1. 1. 1. 1. 1. 1. 1. 1. 1. 2. 1. 1. 1. 2. 3. 2. 1. 0. 1. 3.\n",
      " 2. 2. 1. 1. 2. 1. 2. 4. 2. 2. 1. 1. 1. 1. 1. 2. 1. 1. 1. 1. 1. 4. 1. 5.\n",
      " 1. 1. 1. 1. 1. 1. 1. 4. 2. 1. 1. 1. 1. 1. 1. 1. 1. 1. 1. 1. 1. 1. 1. 1.\n",
      " 1. 1. 1. 1. 5. 1. 1. 2. 1. 1. 1. 2. 1. 7. 1. 1. 1. 1. 1. 4. 1. 1. 1. 1.\n",
      " 1. 1. 1. 1. 1. 1. 1. 1. 1. 1. 1. 2. 1. 1. 1. 1. 0. 1. 1. 1. 4. 1. 1. 1.\n",
      " 1. 1. 1. 1. 3. 1. 3. 8. 1. 2. 1. 1. 1. 1. 1. 1. 1. 3. 2. 2. 1. 1. 0. 1.\n",
      " 1. 2. 1. 1. 2. 1. 1. 1. 1. 1. 1. 1. 1. 1. 1. 1. 1. 1. 1. 2. 1. 1. 1. 3.\n",
      " 1. 3. 1. 1. 1. 1. 1. 1. 0. 1. 1. 1. 1. 3. 1. 8. 2. 1. 1. 2. 1. 1. 1. 1.\n",
      " 1. 3. 1. 1. 1. 2. 1. 1. 1. 1. 0.] [0. 1. 1. 1. 1. 1. 1. 1. 1. 1. 1. 1. 1. 1. 1. 1. 1. 1. 1. 1. 1. 1. 1. 1.\n",
      " 1. 1. 1. 1. 1. 0. 1. 0. 1. 0. 1. 0. 1. 0. 1. 0. 1. 0. 1. 0. 1. 0. 1. 0.\n",
      " 1. 0. 1. 0. 1. 0. 1. 0. 1. 0. 1. 0. 1. 0. 1. 0. 1. 0. 1. 0. 1. 0. 1. 0.\n",
      " 1. 0. 1. 0. 1. 0. 1. 0. 1. 0. 1. 0. 1. 0. 1. 0. 1. 0. 1. 0. 1. 0. 1. 0.\n",
      " 1. 0. 1. 0. 1. 0. 1. 0. 1. 0. 1. 0. 1. 0. 1. 0. 1. 0. 1. 0. 1. 0. 1. 0.\n",
      " 1. 0. 1. 0. 1. 0. 1. 0. 1. 0. 1. 0. 1. 0. 1. 0. 1. 0. 1. 0. 1. 0. 1. 0.\n",
      " 1. 0. 1. 0. 1. 0. 1. 0. 1. 0. 1. 0. 1. 0. 1. 0. 1. 0. 1. 0. 1. 0. 1. 0.\n",
      " 1. 0. 1. 0. 1. 0. 1. 0. 1. 0. 1. 0. 1. 0. 1. 0. 1. 0. 1. 0. 1. 0. 1. 0.\n",
      " 1. 0. 1. 0. 1. 0. 1. 0. 1. 0. 1.]\n",
      "[0. 1. 1. 1. 1. 1. 1. 1. 1. 1. 1. 1. 2. 2. 1. 1. 1. 1. 1. 1. 1. 1. 1. 1.\n",
      " 1. 1. 1.] [0. 0. 1. 0. 1. 0. 1. 0. 1. 0. 1. 0. 1. 0. 1. 0. 1. 0. 1. 0. 1. 0. 1. 0.\n",
      " 1. 0. 1.]\n",
      "[0. 1. 1. 1. 1. 1. 1. 1. 1. 1. 1. 1. 2. 2. 1. 1. 1. 1. 1. 1. 1. 1. 1. 1.\n",
      " 1. 1. 1.] [0. 0. 1. 0. 1. 0. 1. 0. 1. 0. 1. 0. 1. 0. 1. 0. 1. 0. 1. 0. 1. 0. 1. 0.\n",
      " 1. 0. 1.]\n",
      "Training Model :\n",
      "1.0\n"
     ]
    }
   ],
   "source": [
    "dictionary = dic_process(TRAIN_DIR)\n",
    "print (\"reading and processing emails from file.\")\n",
    "features_matrix =np.reshape(ext_features(TRAIN_DIR),(406,1))\n",
    "labels =np.reshape(ext_features(TRAIN_DIR),(406,1))\n",
    "\n",
    "test_feature_matrix =np.reshape(ext_features(TEST_DIR),(54,1))\n",
    "test_labels = np.reshape(ext_features(TEST_DIR),(54,1))\n",
    "\n",
    "clf = GaussianNB()\n",
    "print(\"Training Model :\")\n",
    "clf.fit(features_matrix,labels)\n",
    "predicted_labels = clf.predict(test_feature_matrix)\n",
    "\n",
    "print (accuracy_score(test_labels,predicted_labels))\n"
   ]
  }
 ],
 "metadata": {
  "kernelspec": {
   "display_name": "Python 2",
   "language": "python",
   "name": "python2"
  },
  "language_info": {
   "codemirror_mode": {
    "name": "ipython",
    "version": 2
   },
   "file_extension": ".py",
   "mimetype": "text/x-python",
   "name": "python",
   "nbconvert_exporter": "python",
   "pygments_lexer": "ipython2",
   "version": "2.7.11"
  }
 },
 "nbformat": 4,
 "nbformat_minor": 0
}
