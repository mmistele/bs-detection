{
 "cells": [
  {
   "cell_type": "code",
   "execution_count": 12,
   "metadata": {},
   "outputs": [],
   "source": [
    "import numpy as np\n",
    "from utils import *\n",
    "from keras.models import Model\n",
    "from keras.layers import Dense, Input, Dropout, LSTM, Activation, Lambda,Bidirectional\n",
    "from keras.layers.embeddings import Embedding\n",
    "from keras.preprocessing import sequence\n",
    "from keras.initializers import glorot_uniform"
   ]
  },
  {
   "cell_type": "code",
   "execution_count": 13,
   "metadata": {},
   "outputs": [
    {
     "name": "stdout",
     "output_type": "stream",
     "text": [
      "9908\n",
      "35\n"
     ]
    }
   ],
   "source": [
    "X_train, Y_train = read_csv('data/train-big.csv') \n",
    "X_test, Y_test = read_csv('data/test_minus_dev_big.csv') \n",
    "# small \n",
    "X_dev, Y_dev = read_csv('data/dev_big.csv')\n",
    "\n",
    "\n",
    "ratio=0.1\n",
    "total_train_num=len(X_train)\n",
    "train_num = int(ratio * total_train_num)\n",
    "train_index=(np.random.random([train_num])*total_train_num).astype(int)\n",
    "print (train_num)\n",
    "\n",
    "X_train=X_train[train_index]\n",
    "Y_train = Y_train[train_index]\n",
    "\n",
    "\n",
    "maxLen = len(max(X_train, key=len).split())+10\n",
    "print(maxLen)\n",
    "\n",
    "word_to_index, index_to_word, word_to_vec_map = read_glove_vecs('data/glove.6B.50d.txt')\n",
    "\n",
    "def sentences_to_indices(X, word_to_index, max_len):\n",
    "    \"\"\"\n",
    "    Converts an array of sentences (strings) into an array of indices corresponding to words in the sentences.\n",
    "    The output shape should be such that it can be given to `Embedding()` (described in Figure 4). \n",
    "    \n",
    "    Arguments:\n",
    "    X -- array of sentences (strings), of shape (m, 1)\n",
    "    word_to_index -- a dictionary containing the each word mapped to its index\n",
    "    max_len -- maximum number of words in a sentence. You can assume every sentence in X is no longer than this. \n",
    "    \n",
    "    Returns:\n",
    "    X_indices -- array of indices corresponding to words in the sentences from X, of shape (m, max_len)\n",
    "    \"\"\"\n",
    "\n",
    "    m = X.shape[0]\n",
    "    X_indices = np.zeros((m, max_len))\n",
    "    for i in range(m):\n",
    "        sentence_words = X[i].lower().split()\n",
    "        j = 0\n",
    "        for w in sentence_words:\n",
    "            if w not in word_to_index:\n",
    "                X_indices[i, j] = 0 # HACK - FIX SOON\n",
    "            else:\n",
    "                if j >= maxLen:\n",
    "                    print (sentence_words)\n",
    "                X_indices[i, j] = word_to_index[w]\n",
    "            j = j+1\n",
    "    return X_indices\n",
    "\n",
    "def pretrained_embedding_layer(word_to_vec_map, word_to_index):\n",
    "    \"\"\"\n",
    "    Creates a Keras Embedding() layer and loads in pre-trained GloVe 50-dimensional vectors.\n",
    "    \n",
    "    Arguments:\n",
    "    word_to_vec_map -- dictionary mapping words to their GloVe vector representation.\n",
    "    word_to_index -- dictionary mapping from words to their indices in the vocabulary (400,001 words)\n",
    "\n",
    "    Returns:\n",
    "    embedding_layer -- pretrained layer Keras instance\n",
    "    \"\"\"\n",
    "\n",
    "    vocab_len = len(word_to_index) + 1\n",
    "    emb_dim = word_to_vec_map[\"lemon\"].shape[0]\n",
    "    emb_matrix = np.zeros((vocab_len, emb_dim)) # curious why not transpose of this...\n",
    "    # Sets each row \"index\" of the embedding matrix to be \n",
    "    # the word vector representation of the \"index\"th word of the vocabulary\n",
    "    for word, index in word_to_index.items():\n",
    "        emb_matrix[index, :] = word_to_vec_map[word]\n",
    "    \n",
    "    embedding_layer = Embedding(vocab_len, emb_dim, trainable = False)\n",
    "\n",
    "    embedding_layer.build((None,))\n",
    "    embedding_layer.set_weights([emb_matrix]) # now it's pretrained!\n",
    "\n",
    "    return embedding_layer\n",
    "\n",
    "embedding_layer = pretrained_embedding_layer(word_to_vec_map, word_to_index)\n",
    "X_train_indices = sentences_to_indices(X_train, word_to_index, maxLen)\n",
    "X_test_indices = sentences_to_indices(X_test, word_to_index, max_len = maxLen)\n",
    "X_dev_indices = sentences_to_indices(X_dev, word_to_index, maxLen)"
   ]
  },
  {
   "cell_type": "code",
   "execution_count": 490,
   "metadata": {
    "collapsed": true
   },
   "outputs": [],
   "source": [
    "def Model_V1(input_shape, word_to_vec_map, word_to_index):\n",
    "    \"\"\"\n",
    "    Function creating the Model-V1 model's graph.\n",
    "    \n",
    "    Arguments:\n",
    "    input_shape -- shape of the input, usually (max_len,)\n",
    "    word_to_vec_map -- dictionary mapping every word in a vocabulary into its 50-dimensional vector representation\n",
    "    word_to_index -- dictionary mapping from words to their indices in the vocabulary (400,001 words)\n",
    "\n",
    "    Returns:\n",
    "    model -- a model instance in Keras\n",
    "    \"\"\"\n",
    "    \n",
    "    sentence_indices = Input(shape = input_shape, dtype = np.int32)\n",
    "    embedding_layer = pretrained_embedding_layer(word_to_vec_map, word_to_index)\n",
    "\n",
    "    # Propagates sentence_indices through the embedding layer\n",
    "    embeddings = embedding_layer(sentence_indices)\n",
    "\n",
    "    # Propagate the embeddings through an LSTM layer with 128-dimensional hidden state\n",
    "    LSTM1 = LSTM(128, return_sequences = True,name='LSTM1')(embeddings)\n",
    "    # Adds dropout with probability 0.5\n",
    "    X = Dropout(0.5)(LSTM1)\n",
    "    # Another LSTM layer, but just returns one output\n",
    "    LSTM2 = LSTM(128, return_sequences = True, name='LSTM2')(X)\n",
    "    \n",
    "    def get_last(X):\n",
    "        return X[:,-1,:]\n",
    "    \n",
    "    LSTM2Last = Lambda(get_last, name='LSTM2-last')(LSTM2)\n",
    "    Dropout2 = Dropout(0.5,name='Dropout2')(LSTM2Last)\n",
    "    \n",
    "    # Propagating through a Dense layer with sigmoid activation to get back a scalar\n",
    "    Dense1 = Dense(1,name='Dense1')(Dropout2)\n",
    "    X = Activation('sigmoid',name='output_layer')(Dense1)\n",
    "\n",
    "    model = Model(inputs = sentence_indices, outputs = X)\n",
    "\n",
    "    return model"
   ]
  },
  {
   "cell_type": "markdown",
   "metadata": {},
   "source": [
    "# Adjustable model"
   ]
  },
  {
   "cell_type": "code",
   "execution_count": 491,
   "metadata": {},
   "outputs": [],
   "source": [
    "def Model_V2(input_shape, word_to_vec_map, word_to_index,num_layer,num_cell,dropout_ratio,bidirectional):\n",
    "    \"\"\"\n",
    "    Function creating the Model-V1 model's graph.\n",
    "    \n",
    "    Arguments:\n",
    "    input_shape -- shape of the input, usually (max_len,)\n",
    "    word_to_vec_map -- dictionary mapping every word in a vocabulary into its 50-dimensional vector representation\n",
    "    word_to_index -- dictionary mapping from words to their indices in the vocabulary (400,001 words)\n",
    "\n",
    "    Returns:\n",
    "    model -- a model instance in Keras\n",
    "    \"\"\"\n",
    "    \n",
    "    sentence_indices = Input(shape = input_shape, dtype = np.int32)\n",
    "    embedding_layer = pretrained_embedding_layer(word_to_vec_map, word_to_index)\n",
    "\n",
    "    # Propagates sentence_indices through the embedding layer\n",
    "    X = embedding_layer(sentence_indices)\n",
    "    \n",
    "    # add the first layer, if there is any.\n",
    "    if num_layer == 2:\n",
    "        print (2)\n",
    "        # Propagate the embeddings through an LSTM layer with 128-dimensional hidden state\n",
    "        if bidirectional == True:\n",
    "            print ('b1')\n",
    "            LSTM1 = Bidirectional(LSTM(num_cell, return_sequences = True),name='LSTM1')(X)\n",
    "        else:\n",
    "            print('l1')\n",
    "            LSTM1 = LSTM(num_cell, return_sequences = True,name='LSTM1')(X)\n",
    "        # Adds dropout with probability 0.5\n",
    "        X = Dropout(dropout_ratio)(LSTM1)\n",
    "\n",
    "    # add second layer (or the only layer)\n",
    "    if  num_layer == 1 and bidirectional == True:\n",
    "        print ('b2')\n",
    "        LSTM2 = Bidirectional(LSTM(num_cell, return_sequences = True), name='LSTM2')(X)\n",
    "    else:\n",
    "        print ('l2')\n",
    "    # Another LSTM layer, but just returns one output\n",
    "        LSTM2 = LSTM(num_cell, return_sequences = True, name='LSTM2')(X)\n",
    "    \n",
    "    def get_last(X):\n",
    "        return X[:,-1,:]\n",
    "    \n",
    "    LSTM2Last = Lambda(get_last, name='LSTM2-last')(LSTM2)\n",
    "    Dropout2 = Dropout(dropout_ratio,name='Dropout2')(LSTM2Last)\n",
    "    \n",
    "    # Propagating through a Dense layer with sigmoid activation to get back a scalar\n",
    "    Dense1 = Dense(1,name='Dense1')(Dropout2)\n",
    "    X = Activation('sigmoid',name='output_layer')(Dense1)\n",
    "\n",
    "    model = Model(inputs = sentence_indices, outputs = X)\n",
    "\n",
    "    return model"
   ]
  },
  {
   "cell_type": "markdown",
   "metadata": {},
   "source": [
    "# Training the model"
   ]
  },
  {
   "cell_type": "code",
   "execution_count": 492,
   "metadata": {},
   "outputs": [],
   "source": [
    "#model\n",
    "num_layer=[1] # index 0 is better\n",
    "num_cell=[64] # 0 index\n",
    "drop_ratio=[0.3] # 2 index\n",
    "bidirectional=[False] # 0 index\n",
    "\n",
    "# optimizer\n",
    "beta1=0.9\n",
    "beta2=0.999\n",
    "\n",
    "#fitting\n",
    "learning_rate=[0.001]#[0.001,0.002,0.003,0.004]\n",
    "batch_size=[300]#[5,10,15,20,25]"
   ]
  },
  {
   "cell_type": "code",
   "execution_count": 493,
   "metadata": {},
   "outputs": [
    {
     "name": "stdout",
     "output_type": "stream",
     "text": [
      "l2\n",
      "Train on 9908 samples, validate on 184 samples\n",
      "Epoch 1/20\n",
      "9908/9908 [==============================] - 14s 1ms/step - loss: 0.6925 - acc: 0.5078 - val_loss: 0.6962 - val_acc: 0.4348\n",
      "Epoch 2/20\n",
      "9908/9908 [==============================] - 2s 212us/step - loss: 0.6804 - acc: 0.5665 - val_loss: 0.7254 - val_acc: 0.5326\n",
      "Epoch 3/20\n",
      "9908/9908 [==============================] - 2s 212us/step - loss: 0.6350 - acc: 0.6434 - val_loss: 0.5294 - val_acc: 0.7663\n",
      "Epoch 4/20\n",
      "9908/9908 [==============================] - 2s 213us/step - loss: 0.5866 - acc: 0.6941 - val_loss: 0.4518 - val_acc: 0.8261\n",
      "Epoch 5/20\n",
      "9908/9908 [==============================] - 2s 212us/step - loss: 0.5566 - acc: 0.7173 - val_loss: 0.4469 - val_acc: 0.8098\n",
      "Epoch 6/20\n",
      "9908/9908 [==============================] - 2s 219us/step - loss: 0.5203 - acc: 0.7458 - val_loss: 0.5512 - val_acc: 0.7446\n",
      "Epoch 7/20\n",
      "9908/9908 [==============================] - 2s 215us/step - loss: 0.5257 - acc: 0.7427 - val_loss: 0.4303 - val_acc: 0.8261\n",
      "Epoch 8/20\n",
      "9908/9908 [==============================] - 2s 232us/step - loss: 0.4815 - acc: 0.7737 - val_loss: 0.4249 - val_acc: 0.7935\n",
      "Epoch 9/20\n",
      "9908/9908 [==============================] - 2s 214us/step - loss: 0.4615 - acc: 0.7808 - val_loss: 0.4110 - val_acc: 0.8043\n",
      "Epoch 10/20\n",
      "9908/9908 [==============================] - 2s 211us/step - loss: 0.4365 - acc: 0.7987 - val_loss: 0.4419 - val_acc: 0.7826\n",
      "Epoch 11/20\n",
      "9908/9908 [==============================] - 2s 211us/step - loss: 0.4315 - acc: 0.7983 - val_loss: 0.2962 - val_acc: 0.8587\n",
      "Epoch 12/20\n",
      "9908/9908 [==============================] - 2s 214us/step - loss: 0.3994 - acc: 0.8201 - val_loss: 0.3564 - val_acc: 0.8370\n",
      "Epoch 13/20\n",
      "9908/9908 [==============================] - 2s 217us/step - loss: 0.3799 - acc: 0.8313 - val_loss: 0.3010 - val_acc: 0.8641\n",
      "Epoch 14/20\n",
      "9908/9908 [==============================] - 2s 218us/step - loss: 0.3669 - acc: 0.8359 - val_loss: 0.4095 - val_acc: 0.7935\n",
      "Epoch 15/20\n",
      "9908/9908 [==============================] - 2s 229us/step - loss: 0.3650 - acc: 0.8397 - val_loss: 0.2428 - val_acc: 0.9022\n",
      "Epoch 16/20\n",
      "9908/9908 [==============================] - 2s 233us/step - loss: 0.3466 - acc: 0.8501 - val_loss: 0.4552 - val_acc: 0.8098\n",
      "Epoch 17/20\n",
      "9908/9908 [==============================] - 2s 224us/step - loss: 0.3523 - acc: 0.8465 - val_loss: 0.2486 - val_acc: 0.8967\n",
      "Epoch 18/20\n",
      "9908/9908 [==============================] - 2s 232us/step - loss: 0.3290 - acc: 0.8592 - val_loss: 0.3920 - val_acc: 0.8098\n",
      "Epoch 19/20\n",
      "9908/9908 [==============================] - 2s 230us/step - loss: 0.3571 - acc: 0.8414 - val_loss: 0.2481 - val_acc: 0.8641\n",
      "Epoch 20/20\n",
      "9908/9908 [==============================] - 2s 239us/step - loss: 0.2875 - acc: 0.8788 - val_loss: 0.2138 - val_acc: 0.9076\n",
      "1663/1663 [==============================] - 0s 222us/step\n",
      "Test accuracy =  0.8863499699696962\n"
     ]
    }
   ],
   "source": [
    "il=0\n",
    "ic=0\n",
    "idr=0\n",
    "ibr=0\n",
    "# might want to change the metric here\n",
    "model = Model_V2((maxLen,), word_to_vec_map, word_to_index,num_layer[il],num_cell[ic],drop_ratio[idr],bidirectional[ibr])\n",
    "optimizer = Adam(lr=learning_rate[ilr], beta_1=beta1, beta_2=beta2, decay=0.0, epsilon=None)\n",
    "model.compile(loss='binary_crossentropy', optimizer=optimizer, metrics=['accuracy'])\n",
    "# train the model\n",
    "model_fitting = model.fit(X_train_indices, Y_train, epochs = 20, batch_size = batch_size[ibs], shuffle=True,validation_data=(X_dev_indices, Y_dev))\n",
    "loss, acc = model.evaluate(X_test_indices, Y_test)\n",
    "model.save('word_model_PB.h5')\n",
    "print(\"Test accuracy = \", acc)\n",
    "val_acc[il][ic][idr][ibr][ilr][ibs] = model_fitting.history['val_acc'][-1]\n",
    "tra_acc[il][ic][idr][ibr][ilr][ibs] = model_fitting.history['acc'][-1]"
   ]
  },
  {
   "cell_type": "code",
   "execution_count": null,
   "metadata": {
    "collapsed": true
   },
   "outputs": [],
   "source": [
    "[0.8414 ,0.9076]"
   ]
  },
  {
   "cell_type": "markdown",
   "metadata": {},
   "source": [
    "# Hyper parameter Tuning"
   ]
  },
  {
   "cell_type": "code",
   "execution_count": null,
   "metadata": {},
   "outputs": [],
   "source": [
    "for il in range(len(num_layer)):\n",
    "    for ic in range(len(num_cell)):\n",
    "        for idr in range(len(drop_ratio)):\n",
    "            for ibr in range(len(bidirectional)):\n",
    "                for ilr in range(len(learning_rate)):\n",
    "                    for ibs in range(len(batch_size)):\n",
    "                        print ('num_layer:'+str(num_layer[il]),'num_cell:'+str(num_cell[ic]),'drop_ratio:'+str(drop_ratio[idr]),'bidirectional:'+str(bidirectional[ibr]))\n",
    "                        print('val_acc'+str(val_acc[il][ic][idr][ibr][ilr][ibs]),'tra_acc'+str(tra_acc[il][ic][idr][ibr][ilr][ibs]))"
   ]
  },
  {
   "cell_type": "code",
   "execution_count": null,
   "metadata": {},
   "outputs": [],
   "source": [
    "val_acc=np.zeros([len(num_layer),len(num_cell),len(drop_ratio),len(bidirectional),len(learning_rate),len(batch_size)])\n",
    "tra_acc=np.zeros([len(num_layer),len(num_cell),len(drop_ratio),len(bidirectional),len(learning_rate),len(batch_size)])\n",
    "for il in range(len(num_layer)):\n",
    "    for ic in range(len(num_cell)):\n",
    "        for idr in range(len(drop_ratio)):\n",
    "            for ibr in range(len(bidirectional)):\n",
    "                for ilr in range(len(learning_rate)):\n",
    "                    for ibs in range(len(batch_size)):\n",
    "                        # might want to change the metric here\n",
    "                        model = Model_V2((maxLen,), word_to_vec_map, word_to_index,num_layer[il],num_cell[ic],drop_ratio[idr],bidirectional[ibr])\n",
    "                        optimizer = Adam(lr=learning_rate[ilr], beta_1=beta1, beta_2=beta2, decay=0.0, epsilon=None)\n",
    "                        model.compile(loss='binary_crossentropy', optimizer=optimizer, metrics=['accuracy'])\n",
    "                        # train the model\n",
    "                        model_fitting = model.fit(X_train_indices, Y_train, epochs = 20, batch_size = batch_size[ibs], shuffle=True,validation_data=(X_dev_indices, Y_dev))\n",
    "                        loss, acc = model.evaluate(X_test_indices, Y_test)\n",
    "                        model.save('my_model.h5')\n",
    "                        print(\"Test accuracy = \", acc)\n",
    "                        val_acc[il][ic][idr][ibr][ilr][ibs] = model_fitting.history['val_acc'][-1]\n",
    "                        tra_acc[il][ic][idr][ibr][ilr][ibs] = model_fitting.history['acc'][-1]\n",
    "                    "
   ]
  },
  {
   "cell_type": "code",
   "execution_count": null,
   "metadata": {},
   "outputs": [],
   "source": [
    "print(val_acc.shape)\n",
    "np.mean(val_acc[:,:,:,:,:,:,:])"
   ]
  },
  {
   "cell_type": "markdown",
   "metadata": {},
   "source": [
    "# Weight Plot"
   ]
  },
  {
   "cell_type": "code",
   "execution_count": 7,
   "metadata": {},
   "outputs": [
    {
     "ename": "NameError",
     "evalue": "name 'model_fitting' is not defined",
     "output_type": "error",
     "traceback": [
      "\u001b[0;31m---------------------------------------------------------------------------\u001b[0m",
      "\u001b[0;31mNameError\u001b[0m                                 Traceback (most recent call last)",
      "\u001b[0;32m<ipython-input-7-fcd85ce0fcb5>\u001b[0m in \u001b[0;36m<module>\u001b[0;34m()\u001b[0m\n\u001b[0;32m----> 1\u001b[0;31m \u001b[0mmodel_fitting\u001b[0m\u001b[0;34m.\u001b[0m\u001b[0mhistory\u001b[0m\u001b[0;34m[\u001b[0m\u001b[0;34m'val_acc'\u001b[0m\u001b[0;34m]\u001b[0m\u001b[0;34m[\u001b[0m\u001b[0;34m-\u001b[0m\u001b[0;36m1\u001b[0m\u001b[0;34m]\u001b[0m\u001b[0;34m\u001b[0m\u001b[0m\n\u001b[0m\u001b[1;32m      2\u001b[0m \u001b[0mmodel_fitting\u001b[0m\u001b[0;34m.\u001b[0m\u001b[0mhistory\u001b[0m\u001b[0;34m[\u001b[0m\u001b[0;34m'acc'\u001b[0m\u001b[0;34m]\u001b[0m\u001b[0;34m[\u001b[0m\u001b[0;34m-\u001b[0m\u001b[0;36m1\u001b[0m\u001b[0;34m]\u001b[0m\u001b[0;34m\u001b[0m\u001b[0m\n",
      "\u001b[0;31mNameError\u001b[0m: name 'model_fitting' is not defined"
     ]
    }
   ],
   "source": [
    "model_fitting.history['val_acc'][-1]\n",
    "model_fitting.history['acc'][-1]"
   ]
  },
  {
   "cell_type": "code",
   "execution_count": 5,
   "metadata": {},
   "outputs": [
    {
     "name": "stderr",
     "output_type": "stream",
     "text": [
      "Using TensorFlow backend.\n"
     ]
    }
   ],
   "source": [
    "from __future__ import print_function\n",
    "\n",
    "from keras import backend as K\n",
    "from keras.engine import Input, Model, InputSpec\n",
    "from keras.layers import Dense, Activation, Dropout, Lambda\n",
    "from keras.layers import Embedding, LSTM\n",
    "from keras.optimizers import Adam\n",
    "from keras.preprocessing import sequence\n",
    "from keras.utils.data_utils import get_file\n",
    "from keras.datasets import imdb\n",
    "\n",
    "import numpy as np\n",
    "import random\n",
    "import sys\n",
    "import pdb"
   ]
  },
  {
   "cell_type": "code",
   "execution_count": 6,
   "metadata": {},
   "outputs": [],
   "source": [
    "# Loading the model\n",
    "from keras.models import load_model\n",
    "model = load_model('word_1lay_64cell_30drop_1dir_60ep_50kex.h5')"
   ]
  },
  {
   "cell_type": "code",
   "execution_count": 8,
   "metadata": {},
   "outputs": [],
   "source": [
    "def visualize_model_bs(model, include_gradients=False):\n",
    "\n",
    "    LSTM2 = model.get_layer('LSTM2')\n",
    "    Dropout2 = model.get_layer('Dropout2')\n",
    "    output_layer = model.get_layer('output_layer')\n",
    "\n",
    "    inputs = []\n",
    "    inputs.extend(model.inputs)\n",
    "\n",
    "    outputs = []\n",
    "    outputs.extend(model.outputs)\n",
    "    outputs.append(LSTM2.output)\n",
    "    outputs.append(LSTM2.cell.kernel_f)  # -- weights of the forget gates (assuming LSTM)\n",
    "    #print (LSTM1.trainable_weights)\n",
    "\n",
    "    if include_gradients:\n",
    "        loss = K.mean(model.output)  # [batch_size, 1] -> scalar\n",
    "        grads = K.gradients(loss, LSTM2.output)\n",
    "        grads_norm = grads / (K.sqrt(K.mean(K.square(grads))) + 1e-5)\n",
    "        outputs.append(grads_norm)\n",
    "\n",
    "    all_function = K.function(inputs, outputs)\n",
    "    output_function = K.function([Dropout2.input], model.outputs)\n",
    "    print(Dropout2.input)\n",
    "    return all_function, output_function"
   ]
  },
  {
   "cell_type": "code",
   "execution_count": null,
   "metadata": {},
   "outputs": [],
   "source": [
    "def getWeightedOutputs(model):\n",
    "\n",
    "    LSTM2 = model.get_layer('LSTM2')\n",
    "    Dense1 = model.get_layer('Dense1')\n",
    "\n",
    "    weightedOutputs = LSTM2.output * Dense1.get_weights()\n",
    "\n",
    "    return K.function(model.inputs, weightedOutputs)\n",
    "    "
   ]
  },
  {
   "cell_type": "code",
   "execution_count": 9,
   "metadata": {},
   "outputs": [
    {
     "name": "stdout",
     "output_type": "stream",
     "text": [
      "Tensor(\"LSTM2-last/strided_slice:0\", shape=(?, 64), dtype=float32)\n"
     ]
    }
   ],
   "source": [
    "\n",
    "all_function, output_function = visualize_model_bs(model, include_gradients=True)"
   ]
  },
  {
   "cell_type": "code",
   "execution_count": 14,
   "metadata": {},
   "outputs": [
    {
     "name": "stdout",
     "output_type": "stream",
     "text": [
      "(1, 1) (1, 35, 64) (50, 64) (1, 1, 35, 64)\n",
      "Scores: [[0.5273786]]\n",
      "Time distributed (word-level) scores: [array([[0.5292262 ],\n",
      "       [0.60930586],\n",
      "       [0.7797758 ],\n",
      "       [0.67087257],\n",
      "       [0.57521385],\n",
      "       [0.76162696],\n",
      "       [0.7860274 ],\n",
      "       [0.7751681 ],\n",
      "       [0.7585693 ],\n",
      "       [0.7478044 ],\n",
      "       [0.7440752 ],\n",
      "       [0.5625093 ],\n",
      "       [0.55784297],\n",
      "       [0.5774576 ],\n",
      "       [0.61416   ],\n",
      "       [0.66246104],\n",
      "       [0.71662575],\n",
      "       [0.772387  ],\n",
      "       [0.82495326],\n",
      "       [0.8691724 ],\n",
      "       [0.90199864],\n",
      "       [0.9237125 ],\n",
      "       [0.936372  ],\n",
      "       [0.94181436],\n",
      "       [0.94056755],\n",
      "       [0.9309745 ],\n",
      "       [0.9070768 ],\n",
      "       [0.8525909 ],\n",
      "       [0.7279502 ],\n",
      "       [0.4801502 ],\n",
      "       [0.19076174],\n",
      "       [0.0457784 ],\n",
      "       [0.00930508],\n",
      "       [0.5273786 ],\n",
      "       [0.5273786 ]], dtype=float32)]\n"
     ]
    }
   ],
   "source": [
    "sentence=\"I like the way you think think think think think think\"\n",
    "t = np.array([sentence])\n",
    "X = sentences_to_indices(t, word_to_index, maxLen)\n",
    "# -- Return scores, raw rnn values and gradients\n",
    "# scores is equivalent to model.predict(X)\n",
    "scores, rnn_values, rnn_gradients, W_i = all_function([X])\n",
    "print(scores.shape, rnn_values.shape, rnn_gradients.shape, W_i.shape)\n",
    "\n",
    "# -- score prediction\n",
    "print(\"Scores:\", scores)\n",
    "\n",
    "# -- Return scores at each step in the time sequence\n",
    "time_distributed_scores = map(lambda x: output_function([x]), rnn_values)\n",
    "print(\"Time distributed (word-level) scores:\", map(lambda x: x[0], time_distributed_scores))\n"
   ]
  },
  {
   "cell_type": "code",
   "execution_count": 25,
   "metadata": {},
   "outputs": [
    {
     "name": "stdout",
     "output_type": "stream",
     "text": [
      "35\n"
     ]
    }
   ],
   "source": [
    "print(maxLen)"
   ]
  },
  {
   "cell_type": "code",
   "execution_count": 16,
   "metadata": {},
   "outputs": [
    {
     "name": "stdout",
     "output_type": "stream",
     "text": [
      "\u001b[48;5;0m0\u001b[48;5;1m1\u001b[48;5;2m2\u001b[48;5;3m3\u001b[48;5;4m4\u001b[48;5;5m5\u001b[48;5;6m6\u001b[48;5;7m7\u001b[48;5;8m8\u001b[48;5;9m9\u001b[48;5;10m10\u001b[48;5;11m11\u001b[48;5;12m12\u001b[48;5;13m13\u001b[48;5;14m14\u001b[48;5;15m15\u001b[48;5;16m16\u001b[48;5;17m17\u001b[48;5;18m18\u001b[48;5;19m19\u001b[48;5;20m20\u001b[48;5;21m21\u001b[48;5;22m22\u001b[48;5;23m23\u001b[48;5;24m24\u001b[48;5;25m25\u001b[48;5;26m26\u001b[48;5;27m27\u001b[48;5;28m28\u001b[48;5;29m29\u001b[48;5;30m30\u001b[48;5;31m31\u001b[48;5;32m32\u001b[48;5;33m33\u001b[48;5;34m34\u001b[48;5;35m35\u001b[48;5;36m36\u001b[48;5;37m37\u001b[48;5;38m38\u001b[48;5;39m39\u001b[48;5;40m40\u001b[48;5;41m41\u001b[48;5;42m42\u001b[48;5;43m43\u001b[48;5;44m44\u001b[48;5;45m45\u001b[48;5;46m46\u001b[48;5;47m47\u001b[48;5;48m48\u001b[48;5;49m49\u001b[48;5;50m50\u001b[48;5;51m51\u001b[48;5;52m52\u001b[48;5;53m53\u001b[48;5;54m54\u001b[48;5;55m55\u001b[48;5;56m56\u001b[48;5;57m57\u001b[48;5;58m58\u001b[48;5;59m59\u001b[48;5;60m60\u001b[48;5;61m61\u001b[48;5;62m62\u001b[48;5;63m63\u001b[48;5;64m64\u001b[48;5;65m65\u001b[48;5;66m66\u001b[48;5;67m67\u001b[48;5;68m68\u001b[48;5;69m69\u001b[48;5;70m70\u001b[48;5;71m71\u001b[48;5;72m72\u001b[48;5;73m73\u001b[48;5;74m74\u001b[48;5;75m75\u001b[48;5;76m76\u001b[48;5;77m77\u001b[48;5;78m78\u001b[48;5;79m79\u001b[48;5;80m80\u001b[48;5;81m81\u001b[48;5;82m82\u001b[48;5;83m83\u001b[48;5;84m84\u001b[48;5;85m85\u001b[48;5;86m86\u001b[48;5;87m87\u001b[48;5;88m88\u001b[48;5;89m89\u001b[48;5;90m90\u001b[48;5;91m91\u001b[48;5;92m92\u001b[48;5;93m93\u001b[48;5;94m94\u001b[48;5;95m95\u001b[48;5;96m96\u001b[48;5;97m97\u001b[48;5;98m98\u001b[48;5;99m99\u001b[48;5;100m100\u001b[48;5;101m101\u001b[48;5;102m102\u001b[48;5;103m103\u001b[48;5;104m104\u001b[48;5;105m105\u001b[48;5;106m106\u001b[48;5;107m107\u001b[48;5;108m108\u001b[48;5;109m109\u001b[48;5;110m110\u001b[48;5;111m111\u001b[48;5;112m112\u001b[48;5;113m113\u001b[48;5;114m114\u001b[48;5;115m115\u001b[48;5;116m116\u001b[48;5;117m117\u001b[48;5;118m118\u001b[48;5;119m119\u001b[48;5;120m120\u001b[48;5;121m121\u001b[48;5;122m122\u001b[48;5;123m123\u001b[48;5;124m124\u001b[48;5;125m125\u001b[48;5;126m126\u001b[48;5;127m127\u001b[48;5;128m128\u001b[48;5;129m129\u001b[48;5;130m130\u001b[48;5;131m131\u001b[48;5;132m132\u001b[48;5;133m133\u001b[48;5;134m134\u001b[48;5;135m135\u001b[48;5;136m136\u001b[48;5;137m137\u001b[48;5;138m138\u001b[48;5;139m139\u001b[48;5;140m140\u001b[48;5;141m141\u001b[48;5;142m142\u001b[48;5;143m143\u001b[48;5;144m144\u001b[48;5;145m145\u001b[48;5;146m146\u001b[48;5;147m147\u001b[48;5;148m148\u001b[48;5;149m149\u001b[48;5;150m150\u001b[48;5;151m151\u001b[48;5;152m152\u001b[48;5;153m153\u001b[48;5;154m154\u001b[48;5;155m155\u001b[48;5;156m156\u001b[48;5;157m157\u001b[48;5;158m158\u001b[48;5;159m159\u001b[48;5;160m160\u001b[48;5;161m161\u001b[48;5;162m162\u001b[48;5;163m163\u001b[48;5;164m164\u001b[48;5;165m165\u001b[48;5;166m166\u001b[48;5;167m167\u001b[48;5;168m168\u001b[48;5;169m169\u001b[48;5;170m170\u001b[48;5;171m171\u001b[48;5;172m172\u001b[48;5;173m173\u001b[48;5;174m174\u001b[48;5;175m175\u001b[48;5;176m176\u001b[48;5;177m177\u001b[48;5;178m178\u001b[48;5;179m179\u001b[48;5;180m180\u001b[48;5;181m181\u001b[48;5;182m182\u001b[48;5;183m183\u001b[48;5;184m184\u001b[48;5;185m185\u001b[48;5;186m186\u001b[48;5;187m187\u001b[48;5;188m188\u001b[48;5;189m189\u001b[48;5;190m190\u001b[48;5;191m191\u001b[48;5;192m192\u001b[48;5;193m193\u001b[48;5;194m194\u001b[48;5;195m195\u001b[48;5;196m196\u001b[48;5;197m197\u001b[48;5;198m198\u001b[48;5;199m199\u001b[48;5;200m200\u001b[48;5;201m201\u001b[48;5;202m202\u001b[48;5;203m203\u001b[48;5;204m204\u001b[48;5;205m205\u001b[48;5;206m206\u001b[48;5;207m207\u001b[48;5;208m208\u001b[48;5;209m209\u001b[48;5;210m210\u001b[48;5;211m211\u001b[48;5;212m212\u001b[48;5;213m213\u001b[48;5;214m214\u001b[48;5;215m215\u001b[48;5;216m216\u001b[48;5;217m217\u001b[48;5;218m218\u001b[48;5;219m219\u001b[48;5;220m220\u001b[48;5;221m221\u001b[48;5;222m222\u001b[48;5;223m223\u001b[48;5;224m224\u001b[48;5;225m225\u001b[48;5;226m226\u001b[48;5;227m227\u001b[48;5;228m228\u001b[48;5;229m229\u001b[48;5;230m230\u001b[48;5;231m231\u001b[48;5;232m232\u001b[48;5;233m233\u001b[48;5;234m234\u001b[48;5;235m235\u001b[48;5;236m236\u001b[48;5;237m237\u001b[48;5;238m238\u001b[48;5;239m239\u001b[48;5;240m240\u001b[48;5;241m241\u001b[48;5;242m242\u001b[48;5;243m243\u001b[48;5;244m244\u001b[48;5;245m245\u001b[48;5;246m246\u001b[48;5;247m247\u001b[48;5;248m248\u001b[48;5;249m249\u001b[48;5;250m250\u001b[48;5;251m251\u001b[48;5;252m252\u001b[48;5;253m253\u001b[48;5;254m254\n",
      "------Color index:-----\n",
      "\u001b[48;5;196m196\u001b[48;5;197m197\u001b[48;5;198m198\u001b[48;5;205m205\u001b[48;5;212m212\u001b[48;5;219m219\u001b[48;5;225m225\u001b[48;5;231m231\u001b[48;5;229m229\u001b[48;5;193m193\u001b[48;5;192m192\u001b[48;5;191m191\u001b[48;5;155m155\u001b[48;5;154m154\u001b[48;5;82m82"
     ]
    }
   ],
   "source": [
    "# choose the color index\n",
    "from colored import fg, bg, attr\n",
    "min_c=0\n",
    "max_c=255\n",
    "for i in range(min_c,max_c):\n",
    "    print ('%s%s' % (bg (i),str(i)),end=\"\")\n",
    "    \n",
    "print('\\n------Color index:-----')\n",
    "\n",
    "color_index=[196,197,198,205,212,219,225,231,229,193,192,191,155,154,82]\n",
    "for i in color_index:\n",
    "    print ('%s%s' % (bg (i),str(i)),end=\"\")"
   ]
  },
  {
   "cell_type": "code",
   "execution_count": 22,
   "metadata": {},
   "outputs": [
    {
     "name": "stdout",
     "output_type": "stream",
     "text": [
      "0 15\n",
      "\n",
      "\u001b[48;5;231mI \u001b[48;5;231mlike \u001b[48;5;231mthe \u001b[48;5;231mway \u001b[48;5;231myou \u001b[48;5;231mthink \u001b[48;5;231mthink \u001b[48;5;231mthink \u001b[48;5;231mthink \u001b[48;5;231mthink \u001b[48;5;231mthink \n",
      "\u001b[48;5;192mI \u001b[48;5;193mlike \u001b[48;5;229mthe \u001b[48;5;192mway \u001b[48;5;192myou \u001b[48;5;193mthink \u001b[48;5;193mthink \u001b[48;5;193mthink \u001b[48;5;193mthink \u001b[48;5;192mthink \u001b[48;5;192mthink \n",
      "\u001b[48;5;231mI \u001b[48;5;231mlike \u001b[48;5;219mthe \u001b[48;5;225mway \u001b[48;5;231myou \u001b[48;5;231mthink \u001b[48;5;231mthink \u001b[48;5;231mthink \u001b[48;5;231mthink \u001b[48;5;231mthink \u001b[48;5;231mthink \n",
      "\u001b[48;5;205mI \u001b[48;5;225mlike \u001b[48;5;225mthe \u001b[48;5;205mway \u001b[48;5;205myou \u001b[48;5;212mthink \u001b[48;5;219mthink \u001b[48;5;219mthink \u001b[48;5;219mthink \u001b[48;5;219mthink \u001b[48;5;219mthink \n",
      "\u001b[48;5;155mI \u001b[48;5;192mlike \u001b[48;5;231mthe \u001b[48;5;225mway \u001b[48;5;212myou \u001b[48;5;229mthink \u001b[48;5;191mthink \u001b[48;5;155mthink \u001b[48;5;155mthink \u001b[48;5;155mthink \u001b[48;5;155mthink \n",
      "\u001b[48;5;231mI \u001b[48;5;231mlike \u001b[48;5;191mthe \u001b[48;5;231mway \u001b[48;5;231myou \u001b[48;5;192mthink \u001b[48;5;191mthink \u001b[48;5;191mthink \u001b[48;5;191mthink \u001b[48;5;191mthink \u001b[48;5;191mthink \n",
      "\u001b[48;5;229mI \u001b[48;5;193mlike \u001b[48;5;155mthe \u001b[48;5;192mway \u001b[48;5;191myou \u001b[48;5;191mthink \u001b[48;5;191mthink \u001b[48;5;191mthink \u001b[48;5;192mthink \u001b[48;5;193mthink \u001b[48;5;231mthink \n",
      "\u001b[48;5;219mI \u001b[48;5;219mlike \u001b[48;5;229mthe \u001b[48;5;212mway \u001b[48;5;212myou \u001b[48;5;198mthink \u001b[48;5;198mthink \u001b[48;5;205mthink \u001b[48;5;205mthink \u001b[48;5;205mthink \u001b[48;5;198mthink \n",
      "\u001b[48;5;231mI \u001b[48;5;219mlike \u001b[48;5;231mthe \u001b[48;5;231mway \u001b[48;5;231myou \u001b[48;5;231mthink \u001b[48;5;231mthink \u001b[48;5;231mthink \u001b[48;5;231mthink \u001b[48;5;231mthink \u001b[48;5;231mthink \n",
      "\u001b[48;5;219mI \u001b[48;5;225mlike \u001b[48;5;225mthe \u001b[48;5;219mway \u001b[48;5;212myou \u001b[48;5;212mthink \u001b[48;5;212mthink \u001b[48;5;212mthink \u001b[48;5;212mthink \u001b[48;5;212mthink \u001b[48;5;212mthink \n",
      "\u001b[48;5;192mI \u001b[48;5;154mlike \u001b[48;5;193mthe \u001b[48;5;192mway \u001b[48;5;229myou \u001b[48;5;191mthink \u001b[48;5;154mthink \u001b[48;5;82mthink \u001b[48;5;82mthink \u001b[48;5;82mthink \u001b[48;5;82mthink \n",
      "\u001b[48;5;231mI \u001b[48;5;219mlike \u001b[48;5;231mthe \u001b[48;5;231mway \u001b[48;5;231myou \u001b[48;5;219mthink \u001b[48;5;219mthink \u001b[48;5;219mthink \u001b[48;5;219mthink \u001b[48;5;225mthink \u001b[48;5;225mthink \n",
      "\u001b[48;5;229mI \u001b[48;5;231mlike \u001b[48;5;229mthe \u001b[48;5;193mway \u001b[48;5;229myou \u001b[48;5;231mthink \u001b[48;5;231mthink \u001b[48;5;225mthink \u001b[48;5;219mthink \u001b[48;5;219mthink \u001b[48;5;219mthink \n",
      "\u001b[48;5;231mI \u001b[48;5;231mlike \u001b[48;5;229mthe \u001b[48;5;191mway \u001b[48;5;193myou \u001b[48;5;193mthink \u001b[48;5;193mthink \u001b[48;5;193mthink \u001b[48;5;193mthink \u001b[48;5;193mthink \u001b[48;5;193mthink \n",
      "\u001b[48;5;229mI \u001b[48;5;229mlike \u001b[48;5;231mthe \u001b[48;5;231mway \u001b[48;5;219myou \u001b[48;5;219mthink \u001b[48;5;212mthink \u001b[48;5;219mthink \u001b[48;5;219mthink \u001b[48;5;219mthink \u001b[48;5;225mthink \n",
      "\u001b[48;5;155mI \u001b[48;5;155mlike \u001b[48;5;191mthe \u001b[48;5;155mway \u001b[48;5;155myou \u001b[48;5;191mthink \u001b[48;5;192mthink \u001b[48;5;192mthink \u001b[48;5;191mthink \u001b[48;5;191mthink \u001b[48;5;191mthink \n",
      "\u001b[48;5;231mI \u001b[48;5;219mlike \u001b[48;5;212mthe \u001b[48;5;225mway \u001b[48;5;231myou \u001b[48;5;225mthink \u001b[48;5;225mthink \u001b[48;5;225mthink \u001b[48;5;225mthink \u001b[48;5;225mthink \u001b[48;5;225mthink \n",
      "\u001b[48;5;231mI \u001b[48;5;231mlike \u001b[48;5;229mthe \u001b[48;5;229mway \u001b[48;5;229myou \u001b[48;5;229mthink \u001b[48;5;231mthink \u001b[48;5;231mthink \u001b[48;5;231mthink \u001b[48;5;231mthink \u001b[48;5;231mthink \n",
      "\u001b[48;5;231mI \u001b[48;5;229mlike \u001b[48;5;231mthe \u001b[48;5;231mway \u001b[48;5;231myou \u001b[48;5;229mthink \u001b[48;5;229mthink \u001b[48;5;231mthink \u001b[48;5;231mthink \u001b[48;5;231mthink \u001b[48;5;231mthink \n",
      "\u001b[48;5;229mI \u001b[48;5;212mlike \u001b[48;5;225mthe \u001b[48;5;225mway \u001b[48;5;219myou \u001b[48;5;198mthink \u001b[48;5;197mthink \u001b[48;5;196mthink \u001b[48;5;196mthink \u001b[48;5;196mthink \u001b[48;5;196mthink \n",
      "\u001b[48;5;231mI \u001b[48;5;219mlike \u001b[48;5;229mthe \u001b[48;5;231mway \u001b[48;5;219myou \u001b[48;5;225mthink \u001b[48;5;229mthink \u001b[48;5;193mthink \u001b[48;5;193mthink \u001b[48;5;229mthink \u001b[48;5;229mthink \n",
      "\u001b[48;5;225mI \u001b[48;5;212mlike \u001b[48;5;219mthe \u001b[48;5;212mway \u001b[48;5;212myou \u001b[48;5;198mthink \u001b[48;5;198mthink \u001b[48;5;198mthink \u001b[48;5;198mthink \u001b[48;5;198mthink \u001b[48;5;198mthink \n",
      "\u001b[48;5;229mI \u001b[48;5;229mlike \u001b[48;5;231mthe \u001b[48;5;192mway \u001b[48;5;192myou \u001b[48;5;191mthink \u001b[48;5;155mthink \u001b[48;5;155mthink \u001b[48;5;191mthink \u001b[48;5;191mthink \u001b[48;5;191mthink \n",
      "\u001b[48;5;198mI \u001b[48;5;231mlike \u001b[48;5;154mthe \u001b[48;5;205mway \u001b[48;5;198myou \u001b[48;5;197mthink \u001b[48;5;198mthink \u001b[48;5;198mthink \u001b[48;5;198mthink \u001b[48;5;198mthink \u001b[48;5;198mthink \n",
      "\u001b[48;5;225mI \u001b[48;5;231mlike \u001b[48;5;231mthe \u001b[48;5;219mway \u001b[48;5;212myou \u001b[48;5;212mthink \u001b[48;5;219mthink \u001b[48;5;219mthink \u001b[48;5;219mthink \u001b[48;5;219mthink \u001b[48;5;219mthink \n",
      "\u001b[48;5;225mI \u001b[48;5;231mlike \u001b[48;5;193mthe \u001b[48;5;229mway \u001b[48;5;193myou \u001b[48;5;192mthink \u001b[48;5;192mthink \u001b[48;5;191mthink \u001b[48;5;191mthink \u001b[48;5;191mthink \u001b[48;5;155mthink \n",
      "\u001b[48;5;225mI \u001b[48;5;219mlike \u001b[48;5;219mthe \u001b[48;5;219mway \u001b[48;5;205myou \u001b[48;5;198mthink \u001b[48;5;198mthink \u001b[48;5;197mthink \u001b[48;5;197mthink \u001b[48;5;197mthink \u001b[48;5;198mthink \n",
      "\u001b[48;5;193mI \u001b[48;5;229mlike \u001b[48;5;231mthe \u001b[48;5;231mway \u001b[48;5;193myou \u001b[48;5;192mthink \u001b[48;5;192mthink \u001b[48;5;192mthink \u001b[48;5;192mthink \u001b[48;5;192mthink \u001b[48;5;192mthink \n",
      "\u001b[48;5;231mI \u001b[48;5;229mlike \u001b[48;5;191mthe \u001b[48;5;191mway \u001b[48;5;231myou \u001b[48;5;192mthink \u001b[48;5;229mthink \u001b[48;5;229mthink \u001b[48;5;231mthink \u001b[48;5;231mthink \u001b[48;5;231mthink \n",
      "\u001b[48;5;191mI \u001b[48;5;229mlike \u001b[48;5;231mthe \u001b[48;5;219mway \u001b[48;5;193myou \u001b[48;5;229mthink \u001b[48;5;192mthink \u001b[48;5;191mthink \u001b[48;5;155mthink \u001b[48;5;154mthink \u001b[48;5;82mthink \n",
      "\u001b[48;5;155mI \u001b[48;5;229mlike \u001b[48;5;225mthe \u001b[48;5;225mway \u001b[48;5;193myou \u001b[48;5;225mthink \u001b[48;5;225mthink \u001b[48;5;225mthink \u001b[48;5;225mthink \u001b[48;5;225mthink \u001b[48;5;225mthink \n",
      "\u001b[48;5;212mI \u001b[48;5;212mlike \u001b[48;5;198mthe \u001b[48;5;231mway \u001b[48;5;192myou \u001b[48;5;154mthink \u001b[48;5;82mthink \u001b[48;5;82mthink \u001b[48;5;82mthink \u001b[48;5;82mthink \u001b[48;5;82mthink \n",
      "\u001b[48;5;231mI \u001b[48;5;231mlike \u001b[48;5;225mthe \u001b[48;5;231mway \u001b[48;5;231myou \u001b[48;5;231mthink \u001b[48;5;231mthink \u001b[48;5;231mthink \u001b[48;5;231mthink \u001b[48;5;231mthink \u001b[48;5;231mthink \n",
      "\u001b[48;5;212mI \u001b[48;5;219mlike \u001b[48;5;231mthe \u001b[48;5;225mway \u001b[48;5;193myou \u001b[48;5;225mthink \u001b[48;5;231mthink \u001b[48;5;231mthink \u001b[48;5;231mthink \u001b[48;5;231mthink \u001b[48;5;231mthink \n",
      "\u001b[48;5;154mI \u001b[48;5;191mlike \u001b[48;5;225mthe \u001b[48;5;229mway \u001b[48;5;191myou \u001b[48;5;191mthink \u001b[48;5;155mthink \u001b[48;5;154mthink \u001b[48;5;154mthink \u001b[48;5;154mthink \u001b[48;5;82mthink \n",
      "\u001b[48;5;231mI \u001b[48;5;193mlike \u001b[48;5;191mthe \u001b[48;5;192mway \u001b[48;5;191myou \u001b[48;5;191mthink \u001b[48;5;155mthink \u001b[48;5;154mthink \u001b[48;5;154mthink \u001b[48;5;154mthink \u001b[48;5;154mthink \n",
      "\u001b[48;5;229mI \u001b[48;5;231mlike \u001b[48;5;229mthe \u001b[48;5;229mway \u001b[48;5;229myou \u001b[48;5;231mthink \u001b[48;5;229mthink \u001b[48;5;193mthink \u001b[48;5;192mthink \u001b[48;5;192mthink \u001b[48;5;191mthink \n",
      "\u001b[48;5;219mI \u001b[48;5;219mlike \u001b[48;5;205mthe \u001b[48;5;197mway \u001b[48;5;197myou \u001b[48;5;198mthink \u001b[48;5;198mthink \u001b[48;5;205mthink \u001b[48;5;212mthink \u001b[48;5;219mthink \u001b[48;5;225mthink \n",
      "\u001b[48;5;231mI \u001b[48;5;219mlike \u001b[48;5;212mthe \u001b[48;5;219mway \u001b[48;5;225myou \u001b[48;5;212mthink \u001b[48;5;219mthink \u001b[48;5;219mthink \u001b[48;5;219mthink \u001b[48;5;219mthink \u001b[48;5;219mthink \n",
      "\u001b[48;5;205mI \u001b[48;5;197mlike \u001b[48;5;205mthe \u001b[48;5;198mway \u001b[48;5;196myou \u001b[48;5;196mthink \u001b[48;5;196mthink \u001b[48;5;196mthink \u001b[48;5;196mthink \u001b[48;5;196mthink \u001b[48;5;196mthink \n",
      "\u001b[48;5;212mI \u001b[48;5;212mlike \u001b[48;5;231mthe \u001b[48;5;229mway \u001b[48;5;198myou \u001b[48;5;198mthink \u001b[48;5;197mthink \u001b[48;5;198mthink \u001b[48;5;205mthink \u001b[48;5;212mthink \u001b[48;5;219mthink \n",
      "\u001b[48;5;191mI \u001b[48;5;154mlike \u001b[48;5;191mthe \u001b[48;5;192mway \u001b[48;5;155myou \u001b[48;5;155mthink \u001b[48;5;155mthink \u001b[48;5;155mthink \u001b[48;5;155mthink \u001b[48;5;154mthink \u001b[48;5;154mthink \n",
      "\u001b[48;5;193mI \u001b[48;5;229mlike \u001b[48;5;191mthe \u001b[48;5;229mway \u001b[48;5;229myou \u001b[48;5;229mthink \u001b[48;5;229mthink \u001b[48;5;229mthink \u001b[48;5;229mthink \u001b[48;5;229mthink \u001b[48;5;229mthink \n",
      "\u001b[48;5;192mI \u001b[48;5;192mlike \u001b[48;5;229mthe \u001b[48;5;192mway \u001b[48;5;192myou \u001b[48;5;192mthink \u001b[48;5;192mthink \u001b[48;5;192mthink \u001b[48;5;192mthink \u001b[48;5;192mthink \u001b[48;5;192mthink \n",
      "\u001b[48;5;154mI \u001b[48;5;229mlike \u001b[48;5;231mthe \u001b[48;5;231mway \u001b[48;5;192myou \u001b[48;5;219mthink \u001b[48;5;198mthink \u001b[48;5;197mthink \u001b[48;5;197mthink \u001b[48;5;196mthink \u001b[48;5;196mthink \n",
      "\u001b[48;5;155mI \u001b[48;5;192mlike \u001b[48;5;229mthe \u001b[48;5;219mway \u001b[48;5;198myou \u001b[48;5;212mthink \u001b[48;5;219mthink \u001b[48;5;231mthink \u001b[48;5;193mthink \u001b[48;5;192mthink \u001b[48;5;155mthink \n",
      "\u001b[48;5;225mI \u001b[48;5;225mlike \u001b[48;5;231mthe \u001b[48;5;219mway \u001b[48;5;219myou \u001b[48;5;219mthink \u001b[48;5;225mthink \u001b[48;5;225mthink \u001b[48;5;225mthink \u001b[48;5;225mthink \u001b[48;5;225mthink \n",
      "\u001b[48;5;225mI \u001b[48;5;225mlike \u001b[48;5;219mthe \u001b[48;5;205mway \u001b[48;5;219myou \u001b[48;5;205mthink \u001b[48;5;198mthink \u001b[48;5;198mthink \u001b[48;5;198mthink \u001b[48;5;198mthink \u001b[48;5;198mthink \n",
      "\u001b[48;5;219mI \u001b[48;5;225mlike \u001b[48;5;212mthe \u001b[48;5;231mway \u001b[48;5;231myou \u001b[48;5;225mthink \u001b[48;5;225mthink \u001b[48;5;219mthink \u001b[48;5;212mthink \u001b[48;5;205mthink \u001b[48;5;198mthink \n",
      "\u001b[48;5;193mI \u001b[48;5;229mlike \u001b[48;5;225mthe \u001b[48;5;193mway \u001b[48;5;192myou \u001b[48;5;191mthink \u001b[48;5;155mthink \u001b[48;5;154mthink \u001b[48;5;82mthink \u001b[48;5;82mthink \u001b[48;5;82mthink \n",
      "\u001b[48;5;231mI \u001b[48;5;225mlike \u001b[48;5;231mthe \u001b[48;5;231mway \u001b[48;5;231myou \u001b[48;5;229mthink \u001b[48;5;229mthink \u001b[48;5;229mthink \u001b[48;5;229mthink \u001b[48;5;229mthink \u001b[48;5;193mthink \n",
      "\u001b[48;5;225mI \u001b[48;5;229mlike \u001b[48;5;155mthe \u001b[48;5;192mway \u001b[48;5;192myou \u001b[48;5;193mthink \u001b[48;5;231mthink \u001b[48;5;225mthink \u001b[48;5;219mthink \u001b[48;5;212mthink \u001b[48;5;205mthink \n",
      "\u001b[48;5;229mI \u001b[48;5;193mlike \u001b[48;5;229mthe \u001b[48;5;193mway \u001b[48;5;191myou \u001b[48;5;192mthink \u001b[48;5;191mthink \u001b[48;5;192mthink \u001b[48;5;192mthink \u001b[48;5;193mthink \u001b[48;5;229mthink \n",
      "\u001b[48;5;212mI \u001b[48;5;225mlike \u001b[48;5;231mthe \u001b[48;5;231mway \u001b[48;5;212myou \u001b[48;5;231mthink \u001b[48;5;231mthink \u001b[48;5;231mthink \u001b[48;5;231mthink \u001b[48;5;231mthink \u001b[48;5;231mthink \n",
      "\u001b[48;5;198mI \u001b[48;5;212mlike \u001b[48;5;205mthe \u001b[48;5;212mway \u001b[48;5;205myou \u001b[48;5;205mthink \u001b[48;5;205mthink \u001b[48;5;198mthink \u001b[48;5;198mthink \u001b[48;5;198mthink \u001b[48;5;198mthink \n",
      "\u001b[48;5;231mI \u001b[48;5;231mlike \u001b[48;5;231mthe \u001b[48;5;231mway \u001b[48;5;229myou \u001b[48;5;229mthink \u001b[48;5;229mthink \u001b[48;5;193mthink \u001b[48;5;193mthink \u001b[48;5;229mthink \u001b[48;5;229mthink \n",
      "\u001b[48;5;212mI \u001b[48;5;212mlike \u001b[48;5;219mthe \u001b[48;5;212mway \u001b[48;5;205myou \u001b[48;5;205mthink \u001b[48;5;212mthink \u001b[48;5;212mthink \u001b[48;5;212mthink \u001b[48;5;212mthink \u001b[48;5;212mthink \n",
      "\u001b[48;5;231mI \u001b[48;5;231mlike \u001b[48;5;229mthe \u001b[48;5;191mway \u001b[48;5;82myou \u001b[48;5;154mthink \u001b[48;5;82mthink \u001b[48;5;82mthink \u001b[48;5;82mthink \u001b[48;5;154mthink \u001b[48;5;154mthink \n",
      "\u001b[48;5;231mI \u001b[48;5;231mlike \u001b[48;5;229mthe \u001b[48;5;229mway \u001b[48;5;229myou \u001b[48;5;229mthink \u001b[48;5;229mthink \u001b[48;5;229mthink \u001b[48;5;229mthink \u001b[48;5;229mthink \u001b[48;5;229mthink \n"
     ]
    },
    {
     "name": "stdout",
     "output_type": "stream",
     "text": [
      "\u001b[48;5;219mI \u001b[48;5;212mlike \u001b[48;5;231mthe \u001b[48;5;225mway \u001b[48;5;205myou \u001b[48;5;198mthink \u001b[48;5;198mthink \u001b[48;5;205mthink \u001b[48;5;205mthink \u001b[48;5;205mthink \u001b[48;5;205mthink \n",
      "\u001b[48;5;225mI \u001b[48;5;219mlike \u001b[48;5;212mthe \u001b[48;5;205mway \u001b[48;5;198myou \u001b[48;5;198mthink \u001b[48;5;198mthink \u001b[48;5;198mthink \u001b[48;5;198mthink \u001b[48;5;205mthink \u001b[48;5;205mthink \n",
      "\u001b[48;5;192mI \u001b[48;5;191mlike \u001b[48;5;192mthe \u001b[48;5;192mway \u001b[48;5;191myou \u001b[48;5;192mthink \u001b[48;5;229mthink \u001b[48;5;225mthink \u001b[48;5;205mthink \u001b[48;5;198mthink \u001b[48;5;197mthink \n",
      "\u001b[48;5;192mI \u001b[48;5;231mlike \u001b[48;5;192mthe \u001b[48;5;193mway \u001b[48;5;229myou \u001b[48;5;229mthink \u001b[48;5;229mthink \u001b[48;5;229mthink \u001b[48;5;229mthink \u001b[48;5;229mthink \u001b[48;5;229mthink \n",
      "\u001b[48;5;212mI \u001b[48;5;212mlike \u001b[48;5;225mthe \u001b[48;5;225mway \u001b[48;5;212myou \u001b[48;5;212mthink \u001b[48;5;219mthink \u001b[48;5;219mthink \u001b[48;5;219mthink \u001b[48;5;219mthink \u001b[48;5;225mthink \n"
     ]
    }
   ],
   "source": [
    "from colored import fg, bg, attr\n",
    "words=sentence.split()\n",
    "\n",
    "rnn_shape=[1, 35, 64]\n",
    "color_index=[196,197,198,205,212,219,225,231,229,193,192,191,155,154,82]\n",
    "len_color=len(color_index)\n",
    "color_weight=np.array(rnn_values)\n",
    "color_weight_range=(max(color_weight.flatten())-min(color_weight.flatten()))\n",
    "color_weight=len_color*(color_weight-min(color_weight.flatten()))/color_weight_range\n",
    "color_weight=color_weight.reshape(rnn_shape)\n",
    "\n",
    "\n",
    "# color tuning\n",
    "min_c=int(min(color_weight.flatten()))\n",
    "max_c=int(max(color_weight.flatten()))\n",
    "print(min_c,max_c)\n",
    "\n",
    "    \n",
    "print(\"\")\n",
    "\n",
    "def clamp(x, minval, maxval):\n",
    "    return max(minval, min(x, maxval))\n",
    "\n",
    "rnn_shape=rnn_values.shape\n",
    "for i in range(rnn_shape[2]):\n",
    "    #for w in range(rnn_shape[2]):\n",
    "    for w in range(len(words)):\n",
    "        idx = clamp(int(color_weight[0,w,i]), 0, len(color_index)-1)\n",
    "        print ('%s%s' % (bg (color_index[idx]),words[w]),end=\"\")\n",
    "        print (' ' ,end=\"\")\n",
    "    print ('')"
   ]
  },
  {
   "cell_type": "code",
   "execution_count": 23,
   "metadata": {},
   "outputs": [
    {
     "data": {
      "text/plain": [
       "64"
      ]
     },
     "execution_count": 23,
     "metadata": {},
     "output_type": "execute_result"
    }
   ],
   "source": [
    "rnn_shape[2]"
   ]
  },
  {
   "cell_type": "code",
   "execution_count": 272,
   "metadata": {},
   "outputs": [
    {
     "name": "stdout",
     "output_type": "stream",
     "text": [
      "\u001b[48;5;127mYou\u001b[1m \u001b[48;5;127mdo\u001b[1m \u001b[48;5;128mme\u001b[1m \u001b[48;5;128mwrong\u001b[1m \u001b[48;5;129mvery\u001b[1m \u001b[48;5;129mhave\u001b[1m \u001b[48;5;129ma\u001b[1m \u001b[48;5;129mof\u001b[1m \u001b[48;5;129mmonths\u001b[1m \u001b[48;5;129mimmediate\u001b[1m "
     ]
    }
   ],
   "source": [
    "from colored import fg, bg, attr\n",
    "\n",
    "words=sentence.split()\n",
    "base=124\n",
    "scale=6\n",
    "color_weight=base+np.array(time_distributed_scores).reshape(maxLen)*scale\n",
    "\n",
    "for i in range(len(words)):\n",
    "    print ('%s%s' % (bg (int(color_weight[i])),words[i]),end=\"\")\n",
    "    print ('%s '%attr(1) ,end=\"\")\n",
    "\n",
    "    "
   ]
  },
  {
   "cell_type": "markdown",
   "metadata": {},
   "source": [
    "# Data processing dev/test/train"
   ]
  },
  {
   "cell_type": "code",
   "execution_count": 494,
   "metadata": {
    "collapsed": true
   },
   "outputs": [],
   "source": [
    "# small \n",
    "X_test, Y_test = read_csv('data/test.csv') "
   ]
  },
  {
   "cell_type": "code",
   "execution_count": 495,
   "metadata": {},
   "outputs": [
    {
     "name": "stdout",
     "output_type": "stream",
     "text": [
      "166\n"
     ]
    }
   ],
   "source": [
    "# small\n",
    "import pandas as pd\n",
    "dev_ratio=0.1\n",
    "total_test_num=len(X_test_indices)\n",
    "dev_num = int(dev_ratio * len(X_test_indices))\n",
    "X_dev_indices = []\n",
    "print (dev_num)\n",
    "dev_index=(np.random.random([dev_num])*total_test_num).astype(int)\n",
    "\n",
    "X_dev_indices=X_test_indices[dev_index,:]\n",
    "X_dev = X_test[dev_index]\n",
    "Y_dev = Y_test[dev_index]\n",
    "\n",
    "X_test_after_dev=np.delete(X_test,dev_index,0)\n",
    "Y_test_after_dev=np.delete(Y_test,dev_index,0)\n",
    "\n",
    "# test after dev\n",
    "test_after_dev={'X': X_test_after_dev, 'Y': Y_test_after_dev}\n",
    "test_after_dev = pd.DataFrame(test_after_dev)\n",
    "test_after_dev.to_csv('test_minus_dev.csv',header=False,index=False)\n",
    "\n",
    "# dev\n",
    "dev={'X': X_dev, 'Y': Y_dev}\n",
    "dev = pd.DataFrame(dev)\n",
    "dev.to_csv('dev.csv',header=False,index=False)"
   ]
  },
  {
   "cell_type": "code",
   "execution_count": 496,
   "metadata": {},
   "outputs": [
    {
     "name": "stdout",
     "output_type": "stream",
     "text": [
      "166\n"
     ]
    }
   ],
   "source": [
    "# big\n",
    "X_test, Y_test = read_csv('data/test-big.csv')\n",
    "\n",
    "# small\n",
    "import pandas as pd\n",
    "dev_ratio=0.1\n",
    "total_test_num=len(X_test_indices)\n",
    "dev_num = int(dev_ratio * len(X_test_indices))\n",
    "X_dev_indices = []\n",
    "print (dev_num)\n",
    "dev_index=(np.random.random([dev_num])*total_test_num).astype(int)\n",
    "\n",
    "X_dev_indices=X_test_indices[dev_index,:]\n",
    "X_dev = X_test[dev_index]\n",
    "Y_dev = Y_test[dev_index]\n",
    "\n",
    "X_test_after_dev=np.delete(X_test,dev_index,0)\n",
    "Y_test_after_dev=np.delete(Y_test,dev_index,0)\n",
    "\n",
    "# test after dev\n",
    "test_after_dev={'X': X_test_after_dev, 'Y': Y_test_after_dev}\n",
    "test_after_dev = pd.DataFrame(test_after_dev)\n",
    "test_after_dev.to_csv('test_minus_dev_big.csv',header=False,index=False)\n",
    "\n",
    "# dev\n",
    "dev={'X': X_dev, 'Y': Y_dev}\n",
    "dev = pd.DataFrame(dev)\n",
    "dev.to_csv('dev_big.csv',header=False,index=False)"
   ]
  },
  {
   "cell_type": "code",
   "execution_count": 391,
   "metadata": {},
   "outputs": [
    {
     "name": "stdout",
     "output_type": "stream",
     "text": [
      "9908\n"
     ]
    }
   ],
   "source": [
    "# big\n",
    "X_train, Y_train = read_csv('data/train-big.csv')\n",
    "\n",
    "# small\n",
    "import pandas as pd\n",
    "ratio=0.1\n",
    "total_train_num=len(X_train)\n",
    "train_num = int(ratio * total_train_num)\n",
    "print (train_num)\n",
    "train_index=(np.random.random([train_num])*total_train_num).astype(int)\n",
    "\n",
    "X_train=X_train[train_index]\n",
    "Y_train = Y_train[train_index]\n",
    "\n",
    "\n",
    "# train \n",
    "X_train_shrink={'X': X_train, 'Y': Y_train}\n",
    "X_train_shrink = pd.DataFrame(X_train_shrink)\n",
    "X_train_shrink.to_csv('train_shrink.csv',sep=',',header=False,index=False)"
   ]
  },
  {
   "cell_type": "code",
   "execution_count": 393,
   "metadata": {},
   "outputs": [
    {
     "name": "stdout",
     "output_type": "stream",
     "text": [
      "38\n"
     ]
    }
   ],
   "source": [
    "maxLen = len(max(X_train, key=len).split())\n",
    "print(maxLen)"
   ]
  },
  {
   "cell_type": "markdown",
   "metadata": {},
   "source": [
    "# Plot the accuracy history during the training"
   ]
  },
  {
   "cell_type": "code",
   "execution_count": 497,
   "metadata": {
    "collapsed": true
   },
   "outputs": [],
   "source": [
    "import matplotlib.pyplot as plt\n",
    "%matplotlib inline\n"
   ]
  },
  {
   "cell_type": "code",
   "execution_count": 498,
   "metadata": {},
   "outputs": [],
   "source": [
    "history_acc_percentage=np.array(model_fitting.history['acc'][:20])*100\n",
    "history_dev_percentage=np.array(model_fitting.history['val_acc'][:20])*100"
   ]
  },
  {
   "cell_type": "code",
   "execution_count": 499,
   "metadata": {},
   "outputs": [
    {
     "data": {
      "image/png": "[encoded data removed]",
      "text/plain": [
       "<matplotlib.figure.Figure at 0x3e8c88210>"
      ]
     },
     "metadata": {},
     "output_type": "display_data"
    }
   ],
   "source": [
    "fig = plt.gcf()\n",
    "fig.set_size_inches(10.5, 6.5)\n",
    "\n",
    "word_train,=plt.plot(history_acc_percentage, linewidth=2,color='blue',linestyle='-',label='Word model train acc')\n",
    "word_dev,=plt.plot(history_dev_percentage, linewidth=2,color='blue',linestyle='--',label='Word model dev acc')\n",
    "plt.xlabel('# of Epoch',fontsize=16)\n",
    "plt.ylabel('Accuracy (%)',fontsize=16)\n",
    "plt.title('Accuracy Improvement',fontsize=16)\n",
    "plt.legend(handles=[word_train,word_dev],fontsize=12,loc=4)\n",
    "\n",
    "plt.show()\n",
    "fig.savefig('test2png.png', dpi=100)"
   ]
  },
  {
   "cell_type": "code",
   "execution_count": null,
   "metadata": {
    "collapsed": true
   },
   "outputs": [],
   "source": []
  },
  {
   "cell_type": "code",
   "execution_count": null,
   "metadata": {
    "collapsed": true
   },
   "outputs": [],
   "source": []
  },
  {
   "cell_type": "code",
   "execution_count": 501,
   "metadata": {},
   "outputs": [
    {
     "data": {
      "text/plain": [
       "4914"
      ]
     },
     "execution_count": 501,
     "metadata": {},
     "output_type": "execute_result"
    }
   ],
   "source": [
    "sum(Y_train)"
   ]
  },
  {
   "cell_type": "code",
   "execution_count": null,
   "metadata": {
    "collapsed": true
   },
   "outputs": [],
   "source": []
  },
  {
   "cell_type": "code",
   "execution_count": null,
   "metadata": {
    "collapsed": true
   },
   "outputs": [],
   "source": []
  },
  {
   "cell_type": "code",
   "execution_count": null,
   "metadata": {
    "collapsed": true
   },
   "outputs": [],
   "source": []
  }
 ],
 "metadata": {
  "kernelspec": {
   "display_name": "Python 2",
   "language": "python",
   "name": "python2"
  },
  "language_info": {
   "codemirror_mode": {
    "name": "ipython",
    "version": 2
   },
   "file_extension": ".py",
   "mimetype": "text/x-python",
   "name": "python",
   "nbconvert_exporter": "python",
   "pygments_lexer": "ipython2",
   "version": "2.7.14"
  }
 },
 "nbformat": 4,
 "nbformat_minor": 1
}
