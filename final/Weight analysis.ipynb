{
 "cells": [
  {
   "cell_type": "code",
   "execution_count": 596,
   "metadata": {
    "collapsed": true
   },
   "outputs": [],
   "source": [
    "import numpy as np\n",
    "from utils import *\n",
    "from keras.models import Model\n",
    "from keras.layers import Dense, Input, Dropout, LSTM, Activation, Lambda,Bidirectional\n",
    "from keras.layers.embeddings import Embedding\n",
    "from keras.preprocessing import sequence\n",
    "from keras.initializers import glorot_uniform"
   ]
  },
  {
   "cell_type": "code",
   "execution_count": 597,
   "metadata": {},
   "outputs": [
    {
     "name": "stdout",
     "output_type": "stream",
     "text": [
      "9908\n",
      "33\n"
     ]
    }
   ],
   "source": [
    "X_train, Y_train = read_csv('data/train-big.csv') \n",
    "X_test, Y_test = read_csv('data/test_minus_dev_big.csv') \n",
    "# small \n",
    "X_dev, Y_dev = read_csv('data/dev_big.csv')\n",
    "\n",
    "\n",
    "ratio=0.1\n",
    "total_train_num=len(X_train)\n",
    "train_num = int(ratio * total_train_num)\n",
    "train_index=(np.random.random([train_num])*total_train_num).astype(int)\n",
    "print (train_num)\n",
    "\n",
    "X_train=X_train[train_index]\n",
    "Y_train = Y_train[train_index]\n",
    "\n",
    "\n",
    "maxLen = len(max(X_train, key=len).split())+10\n",
    "print(maxLen)\n",
    "\n",
    "word_to_index, index_to_word, word_to_vec_map = read_glove_vecs('data/glove.6B.50d.txt')\n",
    "\n",
    "def sentences_to_indices(X, word_to_index, max_len):\n",
    "    \"\"\"\n",
    "    Converts an array of sentences (strings) into an array of indices corresponding to words in the sentences.\n",
    "    The output shape should be such that it can be given to `Embedding()` (described in Figure 4). \n",
    "    \n",
    "    Arguments:\n",
    "    X -- array of sentences (strings), of shape (m, 1)\n",
    "    word_to_index -- a dictionary containing the each word mapped to its index\n",
    "    max_len -- maximum number of words in a sentence. You can assume every sentence in X is no longer than this. \n",
    "    \n",
    "    Returns:\n",
    "    X_indices -- array of indices corresponding to words in the sentences from X, of shape (m, max_len)\n",
    "    \"\"\"\n",
    "\n",
    "    m = X.shape[0]\n",
    "    X_indices = np.zeros((m, max_len))\n",
    "    for i in range(m):\n",
    "        sentence_words = X[i].lower().split()\n",
    "        j = 0\n",
    "        for w in sentence_words:\n",
    "            if w not in word_to_index:\n",
    "                X_indices[i, j] = 0 # HACK - FIX SOON\n",
    "            else:\n",
    "                if j >= maxLen:\n",
    "                    print (sentence_words)\n",
    "                X_indices[i, j] = word_to_index[w]\n",
    "            j = j+1\n",
    "    return X_indices\n",
    "\n",
    "def pretrained_embedding_layer(word_to_vec_map, word_to_index):\n",
    "    \"\"\"\n",
    "    Creates a Keras Embedding() layer and loads in pre-trained GloVe 50-dimensional vectors.\n",
    "    \n",
    "    Arguments:\n",
    "    word_to_vec_map -- dictionary mapping words to their GloVe vector representation.\n",
    "    word_to_index -- dictionary mapping from words to their indices in the vocabulary (400,001 words)\n",
    "\n",
    "    Returns:\n",
    "    embedding_layer -- pretrained layer Keras instance\n",
    "    \"\"\"\n",
    "\n",
    "    vocab_len = len(word_to_index) + 1\n",
    "    emb_dim = word_to_vec_map[\"lemon\"].shape[0]\n",
    "    emb_matrix = np.zeros((vocab_len, emb_dim)) # curious why not transpose of this...\n",
    "    # Sets each row \"index\" of the embedding matrix to be \n",
    "    # the word vector representation of the \"index\"th word of the vocabulary\n",
    "    for word, index in word_to_index.items():\n",
    "        emb_matrix[index, :] = word_to_vec_map[word]\n",
    "    \n",
    "    embedding_layer = Embedding(vocab_len, emb_dim, trainable = False)\n",
    "\n",
    "    embedding_layer.build((None,))\n",
    "    embedding_layer.set_weights([emb_matrix]) # now it's pretrained!\n",
    "\n",
    "    return embedding_layer\n",
    "\n",
    "embedding_layer = pretrained_embedding_layer(word_to_vec_map, word_to_index)\n",
    "X_train_indices = sentences_to_indices(X_train, word_to_index, maxLen)\n",
    "X_test_indices = sentences_to_indices(X_test, word_to_index, max_len = maxLen)\n",
    "X_dev_indices = sentences_to_indices(X_dev, word_to_index, maxLen)"
   ]
  },
  {
   "cell_type": "code",
   "execution_count": 598,
   "metadata": {
    "collapsed": true
   },
   "outputs": [],
   "source": [
    "def Model_V1(input_shape, word_to_vec_map, word_to_index):\n",
    "    \"\"\"\n",
    "    Function creating the Model-V1 model's graph.\n",
    "    \n",
    "    Arguments:\n",
    "    input_shape -- shape of the input, usually (max_len,)\n",
    "    word_to_vec_map -- dictionary mapping every word in a vocabulary into its 50-dimensional vector representation\n",
    "    word_to_index -- dictionary mapping from words to their indices in the vocabulary (400,001 words)\n",
    "\n",
    "    Returns:\n",
    "    model -- a model instance in Keras\n",
    "    \"\"\"\n",
    "    \n",
    "    sentence_indices = Input(shape = input_shape, dtype = np.int32)\n",
    "    embedding_layer = pretrained_embedding_layer(word_to_vec_map, word_to_index)\n",
    "\n",
    "    # Propagates sentence_indices through the embedding layer\n",
    "    embeddings = embedding_layer(sentence_indices)\n",
    "\n",
    "    # Propagate the embeddings through an LSTM layer with 128-dimensional hidden state\n",
    "    LSTM1 = LSTM(128, return_sequences = True,name='LSTM1')(embeddings)\n",
    "    # Adds dropout with probability 0.5\n",
    "    X = Dropout(0.5)(LSTM1)\n",
    "    # Another LSTM layer, but just returns one output\n",
    "    LSTM2 = LSTM(128, return_sequences = True, name='LSTM2')(X)\n",
    "    \n",
    "    def get_last(X):\n",
    "        return X[:,-1,:]\n",
    "    \n",
    "    LSTM2Last = Lambda(get_last, name='LSTM2-last')(LSTM2)\n",
    "    Dropout2 = Dropout(0.5,name='Dropout2')(LSTM2Last)\n",
    "    \n",
    "    # Propagating through a Dense layer with sigmoid activation to get back a scalar\n",
    "    Dense1 = Dense(1,name='Dense1')(Dropout2)\n",
    "    X = Activation('sigmoid',name='output_layer')(Dense1)\n",
    "\n",
    "    model = Model(inputs = sentence_indices, outputs = X)\n",
    "\n",
    "    return model"
   ]
  },
  {
   "cell_type": "markdown",
   "metadata": {},
   "source": [
    "# Adjustable model"
   ]
  },
  {
   "cell_type": "code",
   "execution_count": 599,
   "metadata": {
    "collapsed": true
   },
   "outputs": [],
   "source": [
    "def Model_V2(input_shape, word_to_vec_map, word_to_index,num_layer,num_cell,dropout_ratio,bidirectional):\n",
    "    \"\"\"\n",
    "    Function creating the Model-V1 model's graph.\n",
    "    \n",
    "    Arguments:\n",
    "    input_shape -- shape of the input, usually (max_len,)\n",
    "    word_to_vec_map -- dictionary mapping every word in a vocabulary into its 50-dimensional vector representation\n",
    "    word_to_index -- dictionary mapping from words to their indices in the vocabulary (400,001 words)\n",
    "\n",
    "    Returns:\n",
    "    model -- a model instance in Keras\n",
    "    \"\"\"\n",
    "    \n",
    "    sentence_indices = Input(shape = input_shape, dtype = np.int32)\n",
    "    embedding_layer = pretrained_embedding_layer(word_to_vec_map, word_to_index)\n",
    "\n",
    "    # Propagates sentence_indices through the embedding layer\n",
    "    X = embedding_layer(sentence_indices)\n",
    "    \n",
    "    # add the first layer, if there is any.\n",
    "    if num_layer == 2:\n",
    "        print (2)\n",
    "        # Propagate the embeddings through an LSTM layer with 128-dimensional hidden state\n",
    "        if bidirectional == True:\n",
    "            print ('b1')\n",
    "            LSTM1 = Bidirectional(LSTM(num_cell, return_sequences = True),name='LSTM1')(X)\n",
    "        else:\n",
    "            print('l1')\n",
    "            LSTM1 = LSTM(num_cell, return_sequences = True,name='LSTM1')(X)\n",
    "        # Adds dropout with probability 0.5\n",
    "        X = Dropout(dropout_ratio)(LSTM1)\n",
    "\n",
    "    # add second layer (or the only layer)\n",
    "    if  num_layer == 1 and bidirectional == True:\n",
    "        print ('b2')\n",
    "        LSTM2 = Bidirectional(LSTM(num_cell, return_sequences = True), name='LSTM2')(X)\n",
    "    else:\n",
    "        print ('l2')\n",
    "    # Another LSTM layer, but just returns one output\n",
    "        LSTM2 = LSTM(num_cell, return_sequences = True, name='LSTM2')(X)\n",
    "    \n",
    "    def get_last(X):\n",
    "        return X[:,-1,:]\n",
    "    \n",
    "    LSTM2Last = Lambda(get_last, name='LSTM2-last')(LSTM2)\n",
    "    Dropout2 = Dropout(dropout_ratio,name='Dropout2')(LSTM2Last)\n",
    "    \n",
    "    # Propagating through a Dense layer with sigmoid activation to get back a scalar\n",
    "    Dense1 = Dense(1,name='Dense1')(Dropout2)\n",
    "    X = Activation('sigmoid',name='output_layer')(Dense1)\n",
    "\n",
    "    model = Model(inputs = sentence_indices, outputs = X)\n",
    "\n",
    "    return model"
   ]
  },
  {
   "cell_type": "markdown",
   "metadata": {},
   "source": [
    "# Training the model"
   ]
  },
  {
   "cell_type": "code",
   "execution_count": 600,
   "metadata": {
    "collapsed": true
   },
   "outputs": [],
   "source": [
    "#model\n",
    "num_layer=[1] # index 0 is better\n",
    "num_cell=[64] # 0 index\n",
    "drop_ratio=[0.3] # 2 index\n",
    "bidirectional=[False] # 0 index\n",
    "\n",
    "# optimizer\n",
    "beta1=0.9\n",
    "beta2=0.999\n",
    "\n",
    "#fitting\n",
    "learning_rate=[0.001]#[0.001,0.002,0.003,0.004]\n",
    "batch_size=[300]#[5,10,15,20,25]"
   ]
  },
  {
   "cell_type": "code",
   "execution_count": 601,
   "metadata": {},
   "outputs": [
    {
     "name": "stdout",
     "output_type": "stream",
     "text": [
      "l2\n",
      "Train on 9908 samples, validate on 184 samples\n",
      "Epoch 1/20\n",
      "9908/9908 [==============================] - 15s 1ms/step - loss: 0.6911 - acc: 0.5230 - val_loss: 0.7353 - val_acc: 0.3424\n",
      "Epoch 2/20\n",
      "9908/9908 [==============================] - 2s 181us/step - loss: 0.6647 - acc: 0.5897 - val_loss: 0.6621 - val_acc: 0.6576\n",
      "Epoch 3/20\n",
      "9908/9908 [==============================] - 2s 178us/step - loss: 0.6171 - acc: 0.6509 - val_loss: 0.5773 - val_acc: 0.7120\n",
      "Epoch 4/20\n",
      "9908/9908 [==============================] - 2s 181us/step - loss: 0.5846 - acc: 0.6900 - val_loss: 0.6051 - val_acc: 0.6848\n",
      "Epoch 5/20\n",
      "9908/9908 [==============================] - 2s 181us/step - loss: 0.6154 - acc: 0.6655 - val_loss: 0.4851 - val_acc: 0.7609\n",
      "Epoch 6/20\n",
      "9908/9908 [==============================] - 2s 179us/step - loss: 0.5414 - acc: 0.7302 - val_loss: 0.4702 - val_acc: 0.7500\n",
      "Epoch 7/20\n",
      "9908/9908 [==============================] - 2s 179us/step - loss: 0.5202 - acc: 0.7445 - val_loss: 0.5179 - val_acc: 0.7337\n",
      "Epoch 8/20\n",
      "9908/9908 [==============================] - 2s 179us/step - loss: 0.4962 - acc: 0.7627 - val_loss: 0.4320 - val_acc: 0.7717\n",
      "Epoch 9/20\n",
      "9908/9908 [==============================] - 2s 179us/step - loss: 0.4735 - acc: 0.7779 - val_loss: 0.4364 - val_acc: 0.7663\n",
      "Epoch 10/20\n",
      "9908/9908 [==============================] - 2s 183us/step - loss: 0.4422 - acc: 0.7999 - val_loss: 0.4677 - val_acc: 0.7500\n",
      "Epoch 11/20\n",
      "9908/9908 [==============================] - 2s 190us/step - loss: 0.4719 - acc: 0.7783 - val_loss: 0.3903 - val_acc: 0.8043\n",
      "Epoch 12/20\n",
      "9908/9908 [==============================] - 2s 185us/step - loss: 0.4132 - acc: 0.8119 - val_loss: 0.4139 - val_acc: 0.8098\n",
      "Epoch 13/20\n",
      "9908/9908 [==============================] - 2s 186us/step - loss: 0.4117 - acc: 0.8157 - val_loss: 0.3419 - val_acc: 0.8424\n",
      "Epoch 14/20\n",
      "9908/9908 [==============================] - 2s 194us/step - loss: 0.3863 - acc: 0.8299 - val_loss: 0.3758 - val_acc: 0.8261\n",
      "Epoch 15/20\n",
      "9908/9908 [==============================] - 2s 196us/step - loss: 0.3839 - acc: 0.8292 - val_loss: 0.4230 - val_acc: 0.8043\n",
      "Epoch 16/20\n",
      "9908/9908 [==============================] - 2s 189us/step - loss: 0.3922 - acc: 0.8281 - val_loss: 0.3542 - val_acc: 0.8207\n",
      "Epoch 17/20\n",
      "9908/9908 [==============================] - 2s 192us/step - loss: 0.3608 - acc: 0.8428 - val_loss: 0.3763 - val_acc: 0.8370\n",
      "Epoch 18/20\n",
      "9908/9908 [==============================] - 2s 190us/step - loss: 0.3524 - acc: 0.8444 - val_loss: 0.4177 - val_acc: 0.8098\n",
      "Epoch 19/20\n",
      "9908/9908 [==============================] - 2s 191us/step - loss: 0.3300 - acc: 0.8571 - val_loss: 0.3212 - val_acc: 0.8533\n",
      "Epoch 20/20\n",
      "9908/9908 [==============================] - 2s 197us/step - loss: 0.3358 - acc: 0.8573 - val_loss: 0.3235 - val_acc: 0.8696\n",
      "1663/1663 [==============================] - 0s 210us/step\n",
      "Test accuracy =  0.846662657847264\n"
     ]
    }
   ],
   "source": [
    "il=0\n",
    "ic=0\n",
    "idr=0\n",
    "ibr=0\n",
    "# might want to change the metric here\n",
    "model = Model_V2((maxLen,), word_to_vec_map, word_to_index,num_layer[il],num_cell[ic],drop_ratio[idr],bidirectional[ibr])\n",
    "optimizer = Adam(lr=learning_rate[ilr], beta_1=beta1, beta_2=beta2, decay=0.0, epsilon=None)\n",
    "model.compile(loss='binary_crossentropy', optimizer=optimizer, metrics=['accuracy'])\n",
    "# train the model\n",
    "model_fitting = model.fit(X_train_indices, Y_train, epochs = 20, batch_size = batch_size[ibs], shuffle=True,validation_data=(X_dev_indices, Y_dev))\n",
    "loss, acc = model.evaluate(X_test_indices, Y_test)\n",
    "model.save('word_model_PB.h5')\n",
    "print(\"Test accuracy = \", acc)\n",
    "val_acc[il][ic][idr][ibr][ilr][ibs] = model_fitting.history['val_acc'][-1]\n",
    "tra_acc[il][ic][idr][ibr][ilr][ibs] = model_fitting.history['acc'][-1]"
   ]
  },
  {
   "cell_type": "code",
   "execution_count": 602,
   "metadata": {},
   "outputs": [
    {
     "data": {
      "text/plain": [
       "[0.8414, 0.9076]"
      ]
     },
     "execution_count": 602,
     "metadata": {},
     "output_type": "execute_result"
    }
   ],
   "source": [
    "[0.8414 ,0.9076]"
   ]
  },
  {
   "cell_type": "markdown",
   "metadata": {},
   "source": [
    "# Hyper parameter Tuning"
   ]
  },
  {
   "cell_type": "code",
   "execution_count": null,
   "metadata": {
    "collapsed": true
   },
   "outputs": [],
   "source": [
    "for il in range(len(num_layer)):\n",
    "    for ic in range(len(num_cell)):\n",
    "        for idr in range(len(drop_ratio)):\n",
    "            for ibr in range(len(bidirectional)):\n",
    "                for ilr in range(len(learning_rate)):\n",
    "                    for ibs in range(len(batch_size)):\n",
    "                        print ('num_layer:'+str(num_layer[il]),'num_cell:'+str(num_cell[ic]),'drop_ratio:'+str(drop_ratio[idr]),'bidirectional:'+str(bidirectional[ibr]))\n",
    "                        print('val_acc'+str(val_acc[il][ic][idr][ibr][ilr][ibs]),'tra_acc'+str(tra_acc[il][ic][idr][ibr][ilr][ibs]))"
   ]
  },
  {
   "cell_type": "code",
   "execution_count": null,
   "metadata": {
    "collapsed": true
   },
   "outputs": [],
   "source": [
    "val_acc=np.zeros([len(num_layer),len(num_cell),len(drop_ratio),len(bidirectional),len(learning_rate),len(batch_size)])\n",
    "tra_acc=np.zeros([len(num_layer),len(num_cell),len(drop_ratio),len(bidirectional),len(learning_rate),len(batch_size)])\n",
    "for il in range(len(num_layer)):\n",
    "    for ic in range(len(num_cell)):\n",
    "        for idr in range(len(drop_ratio)):\n",
    "            for ibr in range(len(bidirectional)):\n",
    "                for ilr in range(len(learning_rate)):\n",
    "                    for ibs in range(len(batch_size)):\n",
    "                        # might want to change the metric here\n",
    "                        model = Model_V2((maxLen,), word_to_vec_map, word_to_index,num_layer[il],num_cell[ic],drop_ratio[idr],bidirectional[ibr])\n",
    "                        optimizer = Adam(lr=learning_rate[ilr], beta_1=beta1, beta_2=beta2, decay=0.0, epsilon=None)\n",
    "                        model.compile(loss='binary_crossentropy', optimizer=optimizer, metrics=['accuracy'])\n",
    "                        # train the model\n",
    "                        model_fitting = model.fit(X_train_indices, Y_train, epochs = 20, batch_size = batch_size[ibs], shuffle=True,validation_data=(X_dev_indices, Y_dev))\n",
    "                        loss, acc = model.evaluate(X_test_indices, Y_test)\n",
    "                        model.save('my_model.h5')\n",
    "                        print(\"Test accuracy = \", acc)\n",
    "                        val_acc[il][ic][idr][ibr][ilr][ibs] = model_fitting.history['val_acc'][-1]\n",
    "                        tra_acc[il][ic][idr][ibr][ilr][ibs] = model_fitting.history['acc'][-1]\n",
    "                    "
   ]
  },
  {
   "cell_type": "code",
   "execution_count": null,
   "metadata": {
    "collapsed": true
   },
   "outputs": [],
   "source": [
    "print(val_acc.shape)\n",
    "np.mean(val_acc[:,:,:,:,:,:,:])"
   ]
  },
  {
   "cell_type": "markdown",
   "metadata": {},
   "source": [
    "# Weight Plot"
   ]
  },
  {
   "cell_type": "code",
   "execution_count": 603,
   "metadata": {},
   "outputs": [
    {
     "data": {
      "text/plain": [
       "0.8572870396200957"
      ]
     },
     "execution_count": 603,
     "metadata": {},
     "output_type": "execute_result"
    }
   ],
   "source": [
    "model_fitting.history['val_acc'][-1]\n",
    "model_fitting.history['acc'][-1]"
   ]
  },
  {
   "cell_type": "code",
   "execution_count": 604,
   "metadata": {
    "collapsed": true
   },
   "outputs": [],
   "source": [
    "from __future__ import print_function\n",
    "\n",
    "from keras import backend as K\n",
    "from keras.engine import Input, Model, InputSpec\n",
    "from keras.layers import Dense, Activation, Dropout, Lambda\n",
    "from keras.layers import Embedding, LSTM\n",
    "from keras.optimizers import Adam\n",
    "from keras.preprocessing import sequence\n",
    "from keras.utils.data_utils import get_file\n",
    "from keras.datasets import imdb\n",
    "from keras.models import load_model\n",
    "\n",
    "\n",
    "import numpy as np\n",
    "import random\n",
    "import sys\n",
    "import pdb"
   ]
  },
  {
   "cell_type": "code",
   "execution_count": 605,
   "metadata": {
    "collapsed": true
   },
   "outputs": [],
   "source": [
    "# Loading the model\n",
    "from keras.models import load_model\n",
    "model = load_model('word_1lay_64cell_30drop_1dir_60ep_50kex.h5')"
   ]
  },
  {
   "cell_type": "code",
   "execution_count": 607,
   "metadata": {},
   "outputs": [],
   "source": [
    "def visualize_model_bs(model, include_gradients=False):\n",
    "\n",
    "    LSTM2 = model.get_layer('LSTM2')\n",
    "    Dropout2 = model.get_layer('Dropout2')\n",
    "    output_layer = model.get_layer('output_layer')\n",
    "\n",
    "    inputs = []\n",
    "    inputs.extend(model.inputs)\n",
    "\n",
    "    outputs = []\n",
    "    outputs.extend(model.outputs)\n",
    "    outputs.append(LSTM2.output)\n",
    "    outputs.append(LSTM2.cell.kernel_f)  # -- weights of the forget gates (assuming LSTM)\n",
    "    #print (LSTM1.trainable_weights)\n",
    "\n",
    "    if include_gradients:\n",
    "        loss = K.mean(model.output)  # [batch_size, 1] -> scalar\n",
    "        grads = K.gradients(loss, LSTM2.output)\n",
    "        grads_norm = grads / (K.sqrt(K.mean(K.square(grads))) + 1e-5)\n",
    "        outputs.append(grads_norm)\n",
    "\n",
    "    all_function = K.function(inputs, outputs)\n",
    "    output_function = K.function([Dropout2.input], model.outputs)\n",
    "    print(Dropout2.input)\n",
    "    return all_function, output_function"
   ]
  },
  {
   "cell_type": "code",
   "execution_count": 608,
   "metadata": {},
   "outputs": [
    {
     "name": "stdout",
     "output_type": "stream",
     "text": [
      "Tensor(\"Reshape:0\", shape=(1, 1, 64), dtype=float32)\n",
      "Tensor(\"LSTM2_74/transpose_1:0\", shape=(?, ?, 64), dtype=float32)\n"
     ]
    },
    {
     "ename": "TypeError",
     "evalue": "unhashable type: 'list'",
     "output_type": "error",
     "traceback": [
      "\u001b[0;31m---------------------------------------------------------------------------\u001b[0m",
      "\u001b[0;31mTypeError\u001b[0m                                 Traceback (most recent call last)",
      "\u001b[0;32m<ipython-input-608-9bd4ea4c951c>\u001b[0m in \u001b[0;36m<module>\u001b[0;34m()\u001b[0m\n\u001b[1;32m     17\u001b[0m \u001b[0mX\u001b[0m \u001b[0;34m=\u001b[0m \u001b[0msentences_to_indices\u001b[0m\u001b[0;34m(\u001b[0m\u001b[0mt\u001b[0m\u001b[0;34m,\u001b[0m \u001b[0mword_to_index\u001b[0m\u001b[0;34m,\u001b[0m \u001b[0mmaxLen\u001b[0m\u001b[0;34m)\u001b[0m\u001b[0;34m\u001b[0m\u001b[0m\n\u001b[1;32m     18\u001b[0m \u001b[0mget_weights\u001b[0m \u001b[0;34m=\u001b[0m \u001b[0mgetWeightedOutputs\u001b[0m\u001b[0;34m(\u001b[0m\u001b[0mmodel\u001b[0m\u001b[0;34m)\u001b[0m\u001b[0;34m\u001b[0m\u001b[0m\n\u001b[0;32m---> 19\u001b[0;31m \u001b[0mrnn_values_weighted\u001b[0m \u001b[0;34m=\u001b[0m \u001b[0mget_weights\u001b[0m\u001b[0;34m(\u001b[0m\u001b[0;34m[\u001b[0m\u001b[0mX\u001b[0m\u001b[0;34m]\u001b[0m\u001b[0;34m)\u001b[0m\u001b[0;34m\u001b[0m\u001b[0m\n\u001b[0m",
      "\u001b[0;32m/Users/bopeng/Library/TF/lib/python2.7/site-packages/keras/backend/tensorflow_backend.pyc\u001b[0m in \u001b[0;36m__call__\u001b[0;34m(self, inputs)\u001b[0m\n\u001b[1;32m   2476\u001b[0m                                           np.expand_dims(sparse_coo.col, 1)), 1)\n\u001b[1;32m   2477\u001b[0m                 \u001b[0mvalue\u001b[0m \u001b[0;34m=\u001b[0m \u001b[0;34m(\u001b[0m\u001b[0mindices\u001b[0m\u001b[0;34m,\u001b[0m \u001b[0msparse_coo\u001b[0m\u001b[0;34m.\u001b[0m\u001b[0mdata\u001b[0m\u001b[0;34m,\u001b[0m \u001b[0msparse_coo\u001b[0m\u001b[0;34m.\u001b[0m\u001b[0mshape\u001b[0m\u001b[0;34m)\u001b[0m\u001b[0;34m\u001b[0m\u001b[0m\n\u001b[0;32m-> 2478\u001b[0;31m             \u001b[0mfeed_dict\u001b[0m\u001b[0;34m[\u001b[0m\u001b[0mtensor\u001b[0m\u001b[0;34m]\u001b[0m \u001b[0;34m=\u001b[0m \u001b[0mvalue\u001b[0m\u001b[0;34m\u001b[0m\u001b[0m\n\u001b[0m\u001b[1;32m   2479\u001b[0m         \u001b[0mfetches\u001b[0m \u001b[0;34m=\u001b[0m \u001b[0mself\u001b[0m\u001b[0;34m.\u001b[0m\u001b[0moutputs\u001b[0m \u001b[0;34m+\u001b[0m \u001b[0;34m[\u001b[0m\u001b[0mself\u001b[0m\u001b[0;34m.\u001b[0m\u001b[0mupdates_op\u001b[0m\u001b[0;34m]\u001b[0m \u001b[0;34m+\u001b[0m \u001b[0mself\u001b[0m\u001b[0;34m.\u001b[0m\u001b[0mfetches\u001b[0m\u001b[0;34m\u001b[0m\u001b[0m\n\u001b[1;32m   2480\u001b[0m         \u001b[0msession\u001b[0m \u001b[0;34m=\u001b[0m \u001b[0mget_session\u001b[0m\u001b[0;34m(\u001b[0m\u001b[0;34m)\u001b[0m\u001b[0;34m\u001b[0m\u001b[0m\n",
      "\u001b[0;31mTypeError\u001b[0m: unhashable type: 'list'"
     ]
    }
   ],
   "source": [
    "# Not yet working...\n",
    "import tensorflow as tf\n",
    "\n",
    "def getWeightedOutputs(model):\n",
    "\n",
    "    LSTM2 = model.get_layer('LSTM2')\n",
    "    Dense1 = model.get_layer('Dense1')\n",
    "    \n",
    "    weights = tf.convert_to_tensor(Dense1.get_weights()[0], dtype=np.float32)\n",
    "    weights = tf.reshape(weights,(1,1,64))\n",
    "    print(weights)\n",
    "    print(LSTM2.output)\n",
    "\n",
    "    weightedOutputs = tf.multiply(LSTM2.output, weights)\n",
    "    return K.function([model.inputs], [weightedOutputs])\n",
    "\n",
    "X = sentences_to_indices(t, word_to_index, maxLen)\n",
    "get_weights = getWeightedOutputs(model)\n",
    "rnn_values_weighted = get_weights([X])"
   ]
  },
  {
   "cell_type": "code",
   "execution_count": null,
   "metadata": {},
   "outputs": [],
   "source": [
    "model=load_model('word_1lay_64cell_30drop_1dir_60ep_50kex.h5')\n",
    "all_function, output_function = visualize_model_bs(model, include_gradients=True)"
   ]
  },
  {
   "cell_type": "code",
   "execution_count": 70,
   "metadata": {},
   "outputs": [
    {
     "name": "stdout",
     "output_type": "stream",
     "text": [
      "(1, 1) (1, 33, 64) (50, 64) (1, 1, 33, 64)\n",
      "Scores: [[0.00015642]]\n",
      "Time distributed (word-level) scores: [array([[5.5311471e-01],\n",
      "       [7.5159383e-01],\n",
      "       [7.9312688e-01],\n",
      "       [6.4650297e-01],\n",
      "       [6.0913348e-01],\n",
      "       [4.6933240e-01],\n",
      "       [5.6290430e-01],\n",
      "       [6.3932526e-01],\n",
      "       [7.3224401e-01],\n",
      "       [8.1640381e-01],\n",
      "       [8.8241988e-01],\n",
      "       [9.2631572e-01],\n",
      "       [9.5257306e-01],\n",
      "       [9.6745300e-01],\n",
      "       [9.7554922e-01],\n",
      "       [9.7955281e-01],\n",
      "       [9.8074728e-01],\n",
      "       [9.7934705e-01],\n",
      "       [9.7429252e-01],\n",
      "       [9.6170306e-01],\n",
      "       [9.2857486e-01],\n",
      "       [8.2825148e-01],\n",
      "       [5.3971142e-01],\n",
      "       [1.5634350e-01],\n",
      "       [2.2301400e-02],\n",
      "       [3.2153302e-03],\n",
      "       [7.9706294e-04],\n",
      "       [3.5778593e-04],\n",
      "       [2.2610926e-04],\n",
      "       [1.7009153e-04],\n",
      "       [1.4622005e-04],\n",
      "       [1.4235283e-04],\n",
      "       [1.5641832e-04]], dtype=float32)]\n"
     ]
    }
   ],
   "source": [
    "maxLen=33\n",
    "sentence=\"clock picking a way him to\"\n",
    "t = np.array([sentence])\n",
    "X = sentences_to_indices(t, word_to_index, maxLen)\n",
    "# -- Return scores, raw rnn values and gradients\n",
    "# scores is equivalent to model.predict(X)\n",
    "scores, rnn_values, rnn_gradients, W_i = all_function([X])\n",
    "print(scores.shape, rnn_values.shape, rnn_gradients.shape, W_i.shape)\n",
    "\n",
    "# -- score prediction\n",
    "print(\"Scores:\", scores)\n",
    "\n",
    "# -- Return scores at each step in the time sequence\n",
    "time_distributed_scores = map(lambda x: output_function([x]), rnn_values)\n",
    "print(\"Time distributed (word-level) scores:\", map(lambda x: x[0], time_distributed_scores))\n"
   ]
  },
  {
   "cell_type": "code",
   "execution_count": 71,
   "metadata": {},
   "outputs": [
    {
     "name": "stdout",
     "output_type": "stream",
     "text": [
      "33\n"
     ]
    }
   ],
   "source": [
    "print(maxLen)"
   ]
  },
  {
   "cell_type": "code",
   "execution_count": 72,
   "metadata": {},
   "outputs": [
    {
     "name": "stdout",
     "output_type": "stream",
     "text": [
      "\u001b[48;5;0m0\u001b[48;5;1m1\u001b[48;5;2m2\u001b[48;5;3m3\u001b[48;5;4m4\u001b[48;5;5m5\u001b[48;5;6m6\u001b[48;5;7m7\u001b[48;5;8m8\u001b[48;5;9m9\u001b[48;5;10m10\u001b[48;5;11m11\u001b[48;5;12m12\u001b[48;5;13m13\u001b[48;5;14m14\u001b[48;5;15m15\u001b[48;5;16m16\u001b[48;5;17m17\u001b[48;5;18m18\u001b[48;5;19m19\u001b[48;5;20m20\u001b[48;5;21m21\u001b[48;5;22m22\u001b[48;5;23m23\u001b[48;5;24m24\u001b[48;5;25m25\u001b[48;5;26m26\u001b[48;5;27m27\u001b[48;5;28m28\u001b[48;5;29m29\u001b[48;5;30m30\u001b[48;5;31m31\u001b[48;5;32m32\u001b[48;5;33m33\u001b[48;5;34m34\u001b[48;5;35m35\u001b[48;5;36m36\u001b[48;5;37m37\u001b[48;5;38m38\u001b[48;5;39m39\u001b[48;5;40m40\u001b[48;5;41m41\u001b[48;5;42m42\u001b[48;5;43m43\u001b[48;5;44m44\u001b[48;5;45m45\u001b[48;5;46m46\u001b[48;5;47m47\u001b[48;5;48m48\u001b[48;5;49m49\u001b[48;5;50m50\u001b[48;5;51m51\u001b[48;5;52m52\u001b[48;5;53m53\u001b[48;5;54m54\u001b[48;5;55m55\u001b[48;5;56m56\u001b[48;5;57m57\u001b[48;5;58m58\u001b[48;5;59m59\u001b[48;5;60m60\u001b[48;5;61m61\u001b[48;5;62m62\u001b[48;5;63m63\u001b[48;5;64m64\u001b[48;5;65m65\u001b[48;5;66m66\u001b[48;5;67m67\u001b[48;5;68m68\u001b[48;5;69m69\u001b[48;5;70m70\u001b[48;5;71m71\u001b[48;5;72m72\u001b[48;5;73m73\u001b[48;5;74m74\u001b[48;5;75m75\u001b[48;5;76m76\u001b[48;5;77m77\u001b[48;5;78m78\u001b[48;5;79m79\u001b[48;5;80m80\u001b[48;5;81m81\u001b[48;5;82m82\u001b[48;5;83m83\u001b[48;5;84m84\u001b[48;5;85m85\u001b[48;5;86m86\u001b[48;5;87m87\u001b[48;5;88m88\u001b[48;5;89m89\u001b[48;5;90m90\u001b[48;5;91m91\u001b[48;5;92m92\u001b[48;5;93m93\u001b[48;5;94m94\u001b[48;5;95m95\u001b[48;5;96m96\u001b[48;5;97m97\u001b[48;5;98m98\u001b[48;5;99m99\u001b[48;5;100m100\u001b[48;5;101m101\u001b[48;5;102m102\u001b[48;5;103m103\u001b[48;5;104m104\u001b[48;5;105m105\u001b[48;5;106m106\u001b[48;5;107m107\u001b[48;5;108m108\u001b[48;5;109m109\u001b[48;5;110m110\u001b[48;5;111m111\u001b[48;5;112m112\u001b[48;5;113m113\u001b[48;5;114m114\u001b[48;5;115m115\u001b[48;5;116m116\u001b[48;5;117m117\u001b[48;5;118m118\u001b[48;5;119m119\u001b[48;5;120m120\u001b[48;5;121m121\u001b[48;5;122m122\u001b[48;5;123m123\u001b[48;5;124m124\u001b[48;5;125m125\u001b[48;5;126m126\u001b[48;5;127m127\u001b[48;5;128m128\u001b[48;5;129m129\u001b[48;5;130m130\u001b[48;5;131m131\u001b[48;5;132m132\u001b[48;5;133m133\u001b[48;5;134m134\u001b[48;5;135m135\u001b[48;5;136m136\u001b[48;5;137m137\u001b[48;5;138m138\u001b[48;5;139m139\u001b[48;5;140m140\u001b[48;5;141m141\u001b[48;5;142m142\u001b[48;5;143m143\u001b[48;5;144m144\u001b[48;5;145m145\u001b[48;5;146m146\u001b[48;5;147m147\u001b[48;5;148m148\u001b[48;5;149m149\u001b[48;5;150m150\u001b[48;5;151m151\u001b[48;5;152m152\u001b[48;5;153m153\u001b[48;5;154m154\u001b[48;5;155m155\u001b[48;5;156m156\u001b[48;5;157m157\u001b[48;5;158m158\u001b[48;5;159m159\u001b[48;5;160m160\u001b[48;5;161m161\u001b[48;5;162m162\u001b[48;5;163m163\u001b[48;5;164m164\u001b[48;5;165m165\u001b[48;5;166m166\u001b[48;5;167m167\u001b[48;5;168m168\u001b[48;5;169m169\u001b[48;5;170m170\u001b[48;5;171m171\u001b[48;5;172m172\u001b[48;5;173m173\u001b[48;5;174m174\u001b[48;5;175m175\u001b[48;5;176m176\u001b[48;5;177m177\u001b[48;5;178m178\u001b[48;5;179m179\u001b[48;5;180m180\u001b[48;5;181m181\u001b[48;5;182m182\u001b[48;5;183m183\u001b[48;5;184m184\u001b[48;5;185m185\u001b[48;5;186m186\u001b[48;5;187m187\u001b[48;5;188m188\u001b[48;5;189m189\u001b[48;5;190m190\u001b[48;5;191m191\u001b[48;5;192m192\u001b[48;5;193m193\u001b[48;5;194m194\u001b[48;5;195m195\u001b[48;5;196m196\u001b[48;5;197m197\u001b[48;5;198m198\u001b[48;5;199m199\u001b[48;5;200m200\u001b[48;5;201m201\u001b[48;5;202m202\u001b[48;5;203m203\u001b[48;5;204m204\u001b[48;5;205m205\u001b[48;5;206m206\u001b[48;5;207m207\u001b[48;5;208m208\u001b[48;5;209m209\u001b[48;5;210m210\u001b[48;5;211m211\u001b[48;5;212m212\u001b[48;5;213m213\u001b[48;5;214m214\u001b[48;5;215m215\u001b[48;5;216m216\u001b[48;5;217m217\u001b[48;5;218m218\u001b[48;5;219m219\u001b[48;5;220m220\u001b[48;5;221m221\u001b[48;5;222m222\u001b[48;5;223m223\u001b[48;5;224m224\u001b[48;5;225m225\u001b[48;5;226m226\u001b[48;5;227m227\u001b[48;5;228m228\u001b[48;5;229m229\u001b[48;5;230m230\u001b[48;5;231m231\u001b[48;5;232m232\u001b[48;5;233m233\u001b[48;5;234m234\u001b[48;5;235m235\u001b[48;5;236m236\u001b[48;5;237m237\u001b[48;5;238m238\u001b[48;5;239m239\u001b[48;5;240m240\u001b[48;5;241m241\u001b[48;5;242m242\u001b[48;5;243m243\u001b[48;5;244m244\u001b[48;5;245m245\u001b[48;5;246m246\u001b[48;5;247m247\u001b[48;5;248m248\u001b[48;5;249m249\u001b[48;5;250m250\u001b[48;5;251m251\u001b[48;5;252m252\u001b[48;5;253m253\u001b[48;5;254m254\n",
      "------Color index:-----\n",
      "\u001b[48;5;196m196\u001b[48;5;197m197\u001b[48;5;198m198\u001b[48;5;205m205\u001b[48;5;212m212\u001b[48;5;219m219\u001b[48;5;225m225\u001b[48;5;231m231\u001b[48;5;229m229\u001b[48;5;193m193\u001b[48;5;192m192\u001b[48;5;191m191\u001b[48;5;155m155\u001b[48;5;154m154\u001b[48;5;82m82"
     ]
    }
   ],
   "source": [
    "# choose the color index\n",
    "from colored import fg, bg, attr\n",
    "min_c=0\n",
    "max_c=255\n",
    "for i in range(min_c,max_c):\n",
    "    print ('%s%s' % (bg (i),str(i)),end=\"\")\n",
    "    \n",
    "print('\\n------Color index:-----')\n",
    "\n",
    "color_index=[196,197,198,205,212,219,225,231,229,193,192,191,155,154,82]\n",
    "for i in color_index:\n",
    "    print ('%s%s' % (bg (i),str(i)),end=\"\")"
   ]
  },
  {
   "cell_type": "code",
   "execution_count": 90,
   "metadata": {},
   "outputs": [
    {
     "name": "stdout",
     "output_type": "stream",
     "text": [
      "0 9\n",
      "\n",
      "\u001b[48;5;231mNeuron 0: \u001b[48;5;219mclock \u001b[48;5;219mpicking \u001b[48;5;219ma \u001b[48;5;212mway \u001b[48;5;212mhim \u001b[48;5;219mto \n",
      "\u001b[48;5;231mNeuron 1: \u001b[48;5;205mclock \u001b[48;5;205mpicking \u001b[48;5;205ma \u001b[48;5;205mway \u001b[48;5;212mhim \u001b[48;5;225mto \n",
      "\u001b[48;5;231mNeuron 2: \u001b[48;5;205mclock \u001b[48;5;212mpicking \u001b[48;5;212ma \u001b[48;5;212mway \u001b[48;5;219mhim \u001b[48;5;219mto \n",
      "\u001b[48;5;231mNeuron 3: \u001b[48;5;205mclock \u001b[48;5;198mpicking \u001b[48;5;205ma \u001b[48;5;198mway \u001b[48;5;198mhim \u001b[48;5;205mto \n",
      "\u001b[48;5;231mNeuron 4: \u001b[48;5;205mclock \u001b[48;5;198mpicking \u001b[48;5;197ma \u001b[48;5;196mway \u001b[48;5;196mhim \u001b[48;5;197mto \n",
      "\u001b[48;5;231mNeuron 5: \u001b[48;5;219mclock \u001b[48;5;212mpicking \u001b[48;5;212ma \u001b[48;5;205mway \u001b[48;5;212mhim \u001b[48;5;225mto \n",
      "\u001b[48;5;231mNeuron 6: \u001b[48;5;219mclock \u001b[48;5;225mpicking \u001b[48;5;231ma \u001b[48;5;225mway \u001b[48;5;225mhim \u001b[48;5;225mto \n",
      "\u001b[48;5;231mNeuron 7: \u001b[48;5;212mclock \u001b[48;5;212mpicking \u001b[48;5;219ma \u001b[48;5;212mway \u001b[48;5;205mhim \u001b[48;5;205mto \n",
      "\u001b[48;5;231mNeuron 8: \u001b[48;5;219mclock \u001b[48;5;219mpicking \u001b[48;5;219ma \u001b[48;5;219mway \u001b[48;5;219mhim \u001b[48;5;219mto \n",
      "\u001b[48;5;231mNeuron 9: \u001b[48;5;212mclock \u001b[48;5;212mpicking \u001b[48;5;212ma \u001b[48;5;205mway \u001b[48;5;212mhim \u001b[48;5;212mto \n",
      "\u001b[48;5;231mNeuron 10: \u001b[48;5;205mclock \u001b[48;5;212mpicking \u001b[48;5;219ma \u001b[48;5;225mway \u001b[48;5;229mhim \u001b[48;5;225mto \n",
      "\u001b[48;5;231mNeuron 11: \u001b[48;5;212mclock \u001b[48;5;212mpicking \u001b[48;5;219ma \u001b[48;5;212mway \u001b[48;5;212mhim \u001b[48;5;212mto \n",
      "\u001b[48;5;231mNeuron 12: \u001b[48;5;219mclock \u001b[48;5;231mpicking \u001b[48;5;225ma \u001b[48;5;231mway \u001b[48;5;229mhim \u001b[48;5;225mto \n",
      "\u001b[48;5;231mNeuron 13: \u001b[48;5;212mclock \u001b[48;5;205mpicking \u001b[48;5;212ma \u001b[48;5;225mway \u001b[48;5;225mhim \u001b[48;5;225mto \n",
      "\u001b[48;5;231mNeuron 14: \u001b[48;5;225mclock \u001b[48;5;219mpicking \u001b[48;5;219ma \u001b[48;5;219mway \u001b[48;5;219mhim \u001b[48;5;219mto \n",
      "\u001b[48;5;231mNeuron 15: \u001b[48;5;205mclock \u001b[48;5;205mpicking \u001b[48;5;198ma \u001b[48;5;219mway \u001b[48;5;225mhim \u001b[48;5;212mto \n",
      "\u001b[48;5;231mNeuron 16: \u001b[48;5;212mclock \u001b[48;5;212mpicking \u001b[48;5;212ma \u001b[48;5;212mway \u001b[48;5;212mhim \u001b[48;5;205mto \n",
      "\u001b[48;5;231mNeuron 17: \u001b[48;5;219mclock \u001b[48;5;219mpicking \u001b[48;5;219ma \u001b[48;5;219mway \u001b[48;5;212mhim \u001b[48;5;219mto \n",
      "\u001b[48;5;231mNeuron 18: \u001b[48;5;212mclock \u001b[48;5;212mpicking \u001b[48;5;212ma \u001b[48;5;205mway \u001b[48;5;205mhim \u001b[48;5;212mto \n",
      "\u001b[48;5;231mNeuron 19: \u001b[48;5;225mclock \u001b[48;5;219mpicking \u001b[48;5;225ma \u001b[48;5;231mway \u001b[48;5;229mhim \u001b[48;5;225mto \n",
      "\u001b[48;5;231mNeuron 20: \u001b[48;5;212mclock \u001b[48;5;212mpicking \u001b[48;5;219ma \u001b[48;5;219mway \u001b[48;5;212mhim \u001b[48;5;205mto \n",
      "\u001b[48;5;231mNeuron 21: \u001b[48;5;212mclock \u001b[48;5;212mpicking \u001b[48;5;212ma \u001b[48;5;212mway \u001b[48;5;212mhim \u001b[48;5;212mto \n",
      "\u001b[48;5;231mNeuron 22: \u001b[48;5;212mclock \u001b[48;5;225mpicking \u001b[48;5;225ma \u001b[48;5;231mway \u001b[48;5;212mhim \u001b[48;5;198mto \n",
      "\u001b[48;5;231mNeuron 23: \u001b[48;5;225mclock \u001b[48;5;212mpicking \u001b[48;5;229ma \u001b[48;5;198mway \u001b[48;5;205mhim \u001b[48;5;231mto \n",
      "\u001b[48;5;231mNeuron 24: \u001b[48;5;212mclock \u001b[48;5;205mpicking \u001b[48;5;212ma \u001b[48;5;198mway \u001b[48;5;205mhim \u001b[48;5;198mto \n",
      "\u001b[48;5;231mNeuron 25: \u001b[48;5;231mclock \u001b[48;5;225mpicking \u001b[48;5;231ma \u001b[48;5;225mway \u001b[48;5;225mhim \u001b[48;5;219mto \n",
      "\u001b[48;5;231mNeuron 26: \u001b[48;5;205mclock \u001b[48;5;205mpicking \u001b[48;5;198ma \u001b[48;5;205mway \u001b[48;5;198mhim \u001b[48;5;197mto \n",
      "\u001b[48;5;231mNeuron 27: \u001b[48;5;212mclock \u001b[48;5;219mpicking \u001b[48;5;219ma \u001b[48;5;219mway \u001b[48;5;219mhim \u001b[48;5;212mto \n",
      "\u001b[48;5;231mNeuron 28: \u001b[48;5;212mclock \u001b[48;5;219mpicking \u001b[48;5;229ma \u001b[48;5;231mway \u001b[48;5;231mhim \u001b[48;5;193mto \n",
      "\u001b[48;5;231mNeuron 29: \u001b[48;5;219mclock \u001b[48;5;212mpicking \u001b[48;5;198ma \u001b[48;5;197mway \u001b[48;5;219mhim \u001b[48;5;212mto \n",
      "\u001b[48;5;231mNeuron 30: \u001b[48;5;225mclock \u001b[48;5;219mpicking \u001b[48;5;219ma \u001b[48;5;219mway \u001b[48;5;205mhim \u001b[48;5;205mto \n",
      "\u001b[48;5;231mNeuron 31: \u001b[48;5;212mclock \u001b[48;5;231mpicking \u001b[48;5;197ma \u001b[48;5;212mway \u001b[48;5;225mhim \u001b[48;5;231mto \n",
      "\u001b[48;5;231mNeuron 32: \u001b[48;5;212mclock \u001b[48;5;212mpicking \u001b[48;5;212ma \u001b[48;5;212mway \u001b[48;5;212mhim \u001b[48;5;212mto \n",
      "\u001b[48;5;231mNeuron 33: \u001b[48;5;231mclock \u001b[48;5;219mpicking \u001b[48;5;219ma \u001b[48;5;212mway \u001b[48;5;219mhim \u001b[48;5;212mto \n",
      "\u001b[48;5;231mNeuron 34: \u001b[48;5;212mclock \u001b[48;5;205mpicking \u001b[48;5;212ma \u001b[48;5;225mway \u001b[48;5;212mhim \u001b[48;5;205mto \n",
      "\u001b[48;5;231mNeuron 35: \u001b[48;5;212mclock \u001b[48;5;212mpicking \u001b[48;5;205ma \u001b[48;5;205mway \u001b[48;5;219mhim \u001b[48;5;219mto \n",
      "\u001b[48;5;231mNeuron 36: \u001b[48;5;219mclock \u001b[48;5;225mpicking \u001b[48;5;225ma \u001b[48;5;225mway \u001b[48;5;225mhim \u001b[48;5;219mto \n",
      "\u001b[48;5;231mNeuron 37: \u001b[48;5;212mclock \u001b[48;5;212mpicking \u001b[48;5;212ma \u001b[48;5;205mway \u001b[48;5;205mhim \u001b[48;5;212mto \n",
      "\u001b[48;5;231mNeuron 38: \u001b[48;5;212mclock \u001b[48;5;205mpicking \u001b[48;5;205ma \u001b[48;5;212mway \u001b[48;5;205mhim \u001b[48;5;205mto \n",
      "\u001b[48;5;231mNeuron 39: \u001b[48;5;212mclock \u001b[48;5;205mpicking \u001b[48;5;205ma \u001b[48;5;197mway \u001b[48;5;197mhim \u001b[48;5;197mto \n",
      "\u001b[48;5;231mNeuron 40: \u001b[48;5;212mclock \u001b[48;5;212mpicking \u001b[48;5;219ma \u001b[48;5;219mway \u001b[48;5;205mhim \u001b[48;5;212mto \n",
      "\u001b[48;5;231mNeuron 41: \u001b[48;5;219mclock \u001b[48;5;219mpicking \u001b[48;5;212ma \u001b[48;5;219mway \u001b[48;5;231mhim \u001b[48;5;198mto \n",
      "\u001b[48;5;231mNeuron 42: \u001b[48;5;225mclock \u001b[48;5;225mpicking \u001b[48;5;229ma \u001b[48;5;212mway \u001b[48;5;219mhim \u001b[48;5;219mto \n",
      "\u001b[48;5;231mNeuron 43: \u001b[48;5;212mclock \u001b[48;5;219mpicking \u001b[48;5;225ma \u001b[48;5;231mway \u001b[48;5;219mhim \u001b[48;5;225mto \n",
      "\u001b[48;5;231mNeuron 44: \u001b[48;5;225mclock \u001b[48;5;205mpicking \u001b[48;5;212ma \u001b[48;5;219mway \u001b[48;5;225mhim \u001b[48;5;219mto \n",
      "\u001b[48;5;231mNeuron 45: \u001b[48;5;219mclock \u001b[48;5;219mpicking \u001b[48;5;225ma \u001b[48;5;219mway \u001b[48;5;231mhim \u001b[48;5;225mto \n",
      "\u001b[48;5;231mNeuron 46: \u001b[48;5;212mclock \u001b[48;5;198mpicking \u001b[48;5;205ma \u001b[48;5;198mway \u001b[48;5;205mhim \u001b[48;5;212mto \n",
      "\u001b[48;5;231mNeuron 47: \u001b[48;5;212mclock \u001b[48;5;212mpicking \u001b[48;5;205ma \u001b[48;5;198mway \u001b[48;5;205mhim \u001b[48;5;198mto \n",
      "\u001b[48;5;231mNeuron 48: \u001b[48;5;205mclock \u001b[48;5;212mpicking \u001b[48;5;212ma \u001b[48;5;225mway \u001b[48;5;212mhim \u001b[48;5;219mto \n",
      "\u001b[48;5;231mNeuron 49: \u001b[48;5;225mclock \u001b[48;5;225mpicking \u001b[48;5;225ma \u001b[48;5;231mway \u001b[48;5;225mhim \u001b[48;5;225mto \n",
      "\u001b[48;5;231mNeuron 50: \u001b[48;5;219mclock \u001b[48;5;219mpicking \u001b[48;5;225ma \u001b[48;5;225mway \u001b[48;5;225mhim \u001b[48;5;225mto \n",
      "\u001b[48;5;231mNeuron 51: \u001b[48;5;225mclock \u001b[48;5;231mpicking \u001b[48;5;193ma \u001b[48;5;225mway \u001b[48;5;225mhim \u001b[48;5;219mto \n",
      "\u001b[48;5;231mNeuron 52: \u001b[48;5;219mclock \u001b[48;5;225mpicking \u001b[48;5;231ma \u001b[48;5;229mway \u001b[48;5;231mhim \u001b[48;5;225mto \n",
      "\u001b[48;5;231mNeuron 53: \u001b[48;5;212mclock \u001b[48;5;205mpicking \u001b[48;5;212ma \u001b[48;5;212mway \u001b[48;5;205mhim \u001b[48;5;212mto \n",
      "\u001b[48;5;231mNeuron 54: \u001b[48;5;212mclock \u001b[48;5;198mpicking \u001b[48;5;197ma \u001b[48;5;198mway \u001b[48;5;198mhim \u001b[48;5;212mto \n",
      "\u001b[48;5;231mNeuron 55: \u001b[48;5;212mclock \u001b[48;5;212mpicking \u001b[48;5;212ma \u001b[48;5;212mway \u001b[48;5;205mhim \u001b[48;5;212mto \n",
      "\u001b[48;5;231mNeuron 56: \u001b[48;5;219mclock \u001b[48;5;212mpicking \u001b[48;5;212ma \u001b[48;5;212mway \u001b[48;5;205mhim \u001b[48;5;205mto \n",
      "\u001b[48;5;231mNeuron 57: \u001b[48;5;219mclock \u001b[48;5;219mpicking \u001b[48;5;231ma \u001b[48;5;231mway \u001b[48;5;229mhim \u001b[48;5;193mto \n",
      "\u001b[48;5;231mNeuron 58: \u001b[48;5;205mclock \u001b[48;5;198mpicking \u001b[48;5;212ma \u001b[48;5;212mway \u001b[48;5;212mhim \u001b[48;5;212mto \n",
      "\u001b[48;5;231mNeuron 59: \u001b[48;5;231mclock \u001b[48;5;225mpicking \u001b[48;5;225ma \u001b[48;5;205mway \u001b[48;5;198mhim \u001b[48;5;197mto \n",
      "\u001b[48;5;231mNeuron 60: \u001b[48;5;212mclock \u001b[48;5;205mpicking \u001b[48;5;205ma \u001b[48;5;198mway \u001b[48;5;198mhim \u001b[48;5;198mto \n",
      "\u001b[48;5;231mNeuron 61: \u001b[48;5;225mclock \u001b[48;5;225mpicking \u001b[48;5;225ma \u001b[48;5;212mway \u001b[48;5;205mhim \u001b[48;5;198mto \n",
      "\u001b[48;5;231mNeuron 62: \u001b[48;5;197mclock \u001b[48;5;197mpicking \u001b[48;5;225ma \u001b[48;5;225mway \u001b[48;5;225mhim \u001b[48;5;225mto \n",
      "\u001b[48;5;231mNeuron 63: \u001b[48;5;212mclock \u001b[48;5;212mpicking \u001b[48;5;219ma \u001b[48;5;212mway \u001b[48;5;219mhim \u001b[48;5;219mto \n"
     ]
    }
   ],
   "source": [
    "from colored import fg, bg, attr\n",
    "words=sentence.split()\n",
    "\n",
    "rnn_shape=[1, maxLen, 64]\n",
    "color_index=[196,197,198,205,212,219,225,231,229,193,192,191,155,154,82]\n",
    "len_color=len(color_index)\n",
    "color_weight=np.array(rnn_values)\n",
    "color_weight_range=(max(color_weight.flatten())-min(color_weight.flatten()))+1 # +1 make it safer, and not over the range\n",
    "color_weight=len_color*(color_weight-min(color_weight.flatten()))/color_weight_range\n",
    "color_weight=color_weight.reshape(rnn_shape)\n",
    "\n",
    "\n",
    "# color tuning\n",
    "min_c=int(min(color_weight.flatten()))\n",
    "max_c=int(max(color_weight.flatten()))\n",
    "print(min_c,max_c)\n",
    "\n",
    "    \n",
    "print(\"\")\n",
    "\n",
    "def clamp(x, minval, maxval):\n",
    "    return max(minval, min(x, maxval))\n",
    "\n",
    "\n",
    "for i in range(rnn_shape[2]):\n",
    "    #for w in range(rnn_shape[2]):\n",
    "    print ('%s%s: ' % (bg (231),'Neuron '+str(i)), end=\"\")\n",
    "    for w in range(len(words)):\n",
    "        idx = clamp(int(color_weight[0,w,i]), 0, len(color_index)-1)\n",
    "        print ('%s%s' % (bg (color_index[idx]),words[w]),end=\"\")\n",
    "        print (' ' ,end=\"\")\n",
    "    print (\"\")\n"
   ]
  },
  {
   "cell_type": "code",
   "execution_count": 74,
   "metadata": {},
   "outputs": [
    {
     "data": {
      "text/plain": [
       "64"
      ]
     },
     "execution_count": 74,
     "metadata": {},
     "output_type": "execute_result"
    }
   ],
   "source": [
    "rnn_shape[2]"
   ]
  },
  {
   "cell_type": "code",
   "execution_count": 91,
   "metadata": {},
   "outputs": [
    {
     "name": "stdout",
     "output_type": "stream",
     "text": [
      "[4.1879048e+00 5.6910758e+00 6.0056238e+00 4.8951759e+00 4.6121602e+00\n",
      " 3.5533843e+00 4.2620459e+00 4.8408160e+00 5.5445313e+00 6.1819105e+00\n",
      " 6.6818795e+00 7.0143223e+00 7.2131805e+00 7.3258729e+00 7.3871894e+00\n",
      " 7.4175105e+00 7.4265566e+00 7.4159517e+00 7.3776722e+00 7.2823257e+00\n",
      " 7.0314317e+00 6.2716384e+00 4.0863962e+00 1.1829807e+00 1.6782030e-01\n",
      " 2.3273021e-02 4.9584103e-03 1.6315705e-03 6.3432462e-04 2.1007750e-04\n",
      " 2.9288136e-05 0.0000000e+00 1.0652419e-04]\n",
      "\u001b[48;5;212mclock\u001b[1m \u001b[48;5;219mpicking\u001b[1m \u001b[48;5;225ma\u001b[1m \u001b[48;5;212mway\u001b[1m \u001b[48;5;212mhim\u001b[1m \u001b[48;5;205mto\u001b[1m "
     ]
    }
   ],
   "source": [
    "from colored import fg, bg, attr\n",
    "\n",
    "words=sentence.split()\n",
    "color_weight=np.array(time_distributed_scores).reshape(maxLen)\n",
    "color_weight_range=max(color_weight)-min(color_weight)+1\n",
    "color_weight=len_color*(color_weight-min(color_weight.flatten()))/color_weight_range\n",
    "\n",
    "print (color_weight)\n",
    "for i in range(len(words)):\n",
    "    print ('%s%s' % (bg (color_index[int(color_weight[i])]),words[i]),end=\"\")\n",
    "    print ('%s '%attr(1) ,end=\"\")    "
   ]
  },
  {
   "cell_type": "code",
   "execution_count": 96,
   "metadata": {},
   "outputs": [
    {
     "name": "stdout",
     "output_type": "stream",
     "text": [
      "(9908, 1) (9908, 35, 64) (50, 64) (1, 9908, 35, 64)\n",
      "[[1746  169 2032 ... 9738  432 8956]\n",
      " [1115  665 8865 ... 2186 3956 1668]\n",
      " [8274 1403 3507 ... 4006   96  426]\n",
      " ...\n",
      " [8837 2971 2266 ... 6348 4645 1714]\n",
      " [   0    0    0 ...    0    0    0]\n",
      " [   0    0    0 ...    0    0    0]]\n"
     ]
    }
   ],
   "source": [
    "maxLen=33\n",
    "\n",
    "\n",
    "# -- Return scores, raw rnn values and gradients\n",
    "# scores is equivalent to model.predict(X)\n",
    "scores, rnn_values, rnn_gradients, W_i = all_function([X_train_indices])\n",
    "print(scores.shape, rnn_values.shape, rnn_gradients.shape, W_i.shape)\n",
    "\n",
    "maxes = tf.Session().run(tf.argmax(rnn_values, axis=0))\n",
    "print(maxes)\n",
    "\n",
    "# -- Return scores at each step in the time sequence\n",
    "# time_distributed_scores = map(lambda x: output_function([x]), rnn_values)\n",
    "# print(\"Time distributed (word-level) scores:\", map(lambda x: x[0], time_distributed_scores))"
   ]
  },
  {
   "cell_type": "code",
   "execution_count": 114,
   "metadata": {},
   "outputs": [
    {
     "name": "stdout",
     "output_type": "stream",
     "text": [
      "[8837 2971 2266  920 1942 2503 7300 5181  436 7696 5313 4328 5896 4645\n",
      " 3716 3920 8956 7124 4690 9465 3563 2909 5181 4758  573 4313 4690 1942\n",
      " 4328 3263 7699 4758  573 4601 4153 4690 5415 4082 5899 2909 5687 1714\n",
      " 2114 6577  170 4690 7746  608 7309 9507 1995 9536   96 5555 6577 7699\n",
      " 3263 5181 4153 4548 4314 6348 4645 1714]\n"
     ]
    }
   ],
   "source": [
    "lastSlice = rnn_values[:,-3,:] # all zeroes if it's -2 etc\n",
    "lastMaxes = tf.Session().run(tf.argmax(lastSlice, axis=0))\n",
    "print(lastMaxes)"
   ]
  },
  {
   "cell_type": "code",
   "execution_count": 115,
   "metadata": {},
   "outputs": [
    {
     "data": {
      "text/plain": [
       "array(['In the past I used to vote the Democratic ticket', 'in The I the',\n",
       "       \"They say fine words are no virtue if they're insincere and that's him in a nutshell He's all talk but doesn't mean a word of it\",\n",
       "       'No',\n",
       "       '26511\\tfra\\tAimes-tu les serpents\\xe2\\x80\\xaf Bien s\\xc3\\xbbr que non',\n",
       "       'this hours the', 'down is taken trees eggs with they',\n",
       "       \"The information presented in Kelly's paper on color coordination is seen to be of use in building up an alternative theory\",\n",
       "       \"soccer Some doubtful people children don't reminds be at ish wish\",\n",
       "       'star weight prove will before business to a excellent out trumpet',\n",
       "       'almost past people good property may too teacher dress make a',\n",
       "       'One of the reasons is the difference between Japan and other countries in their attitudes toward education',\n",
       "       \"day This a read the in hear her hiked I'm payment latest\",\n",
       "       'We accept making a reduction in price of 5% if this will help you to develop a new market for our products',\n",
       "       'The gate is closed all the year round',\n",
       "       'lost to too about Bark to how doubts the an than here',\n",
       "       'Soviet and Western observers have warned that if the Muslim republics do not join the commonwealth',\n",
       "       'two well late the together homework Liquids school The',\n",
       "       \"Credit is the amount or sum placed at a person's disposal by a bank; a loan of money\",\n",
       "       'The fishermen cast their nets into the sea',\n",
       "       'said Americans has ideas We mystery who',\n",
       "       'model solved conference explain Much to accord of',\n",
       "       \"The information presented in Kelly's paper on color coordination is seen to be of use in building up an alternative theory\",\n",
       "       'Is it possible to reproduce 70 copies of your report which appeared in the November issue of The Network and distribute them to our agents',\n",
       "       'The company provides health care and life insurance benefits for all of its employees',\n",
       "       'The farm grows potatoes',\n",
       "       \"Credit is the amount or sum placed at a person's disposal by a bank; a loan of money\",\n",
       "       '26511\\tfra\\tAimes-tu les serpents\\xe2\\x80\\xaf Bien s\\xc3\\xbbr que non',\n",
       "       'One of the reasons is the difference between Japan and other countries in their attitudes toward education',\n",
       "       'There the spider waits for small insects like butterflies and dragonflies to be trapped',\n",
       "       'I am wondering if you would like to go and see Kabuki with me while staying in Japan',\n",
       "       'Is it possible to reproduce 70 copies of your report which appeared in the November issue of The Network and distribute them to our agents',\n",
       "       'The company provides health care and life insurance benefits for all of its employees',\n",
       "       \"to of The Painted We the You'll I'm\",\n",
       "       \"is before speak reform will don't\",\n",
       "       \"Credit is the amount or sum placed at a person's disposal by a bank; a loan of money\",\n",
       "       'The news that her son was injured in the accident was a great shock to her',\n",
       "       'of justice of here at is one you task help to',\n",
       "       'they our asked Wake speak mountain arrived a heartily in congratulate belt',\n",
       "       'model solved conference explain Much to accord of',\n",
       "       'foot necessary rights view difference having necessary of my serious will ish',\n",
       "       'The habits of highly intelligent people offer a clue as to how to do that',\n",
       "       \"I gotta keep on movin'\", 'Please Oww is', 'the You the with the',\n",
       "       \"Credit is the amount or sum placed at a person's disposal by a bank; a loan of money\",\n",
       "       'fishing it What took and miles be There news Food 20',\n",
       "       'Past the west coasts of Europe and Africa to the tip of southern Africa',\n",
       "       'To begin with', 'Toil and worry caused his health to break down',\n",
       "       'The robbers made away with all the money in the safe',\n",
       "       \"Susan shined her father's shoes\",\n",
       "       'to Hawaii facing has bigger innocence sure the come',\n",
       "       'I has ultimate to always', 'Please Oww is',\n",
       "       'I am wondering if you would like to go and see Kabuki with me while staying in Japan',\n",
       "       'There the spider waits for small insects like butterflies and dragonflies to be trapped',\n",
       "       \"The information presented in Kelly's paper on color coordination is seen to be of use in building up an alternative theory\",\n",
       "       \"is before speak reform will don't\",\n",
       "       'Our plane was flying over the Pacific Ocean',\n",
       "       \"chapter answers a I your I'm\",\n",
       "       'station be speech a late the in punished laws if park had',\n",
       "       'We accept making a reduction in price of 5% if this will help you to develop a new market for our products',\n",
       "       'The habits of highly intelligent people offer a clue as to how to do that'],\n",
       "      dtype='|S213')"
      ]
     },
     "execution_count": 115,
     "metadata": {},
     "output_type": "execute_result"
    }
   ],
   "source": [
    "X_train[lastMaxes]"
   ]
  },
  {
   "cell_type": "markdown",
   "metadata": {},
   "source": [
    "# Data processing dev/test/train"
   ]
  },
  {
   "cell_type": "code",
   "execution_count": 494,
   "metadata": {
    "collapsed": true
   },
   "outputs": [],
   "source": [
    "# small \n",
    "X_test, Y_test = read_csv('data/test.csv') "
   ]
  },
  {
   "cell_type": "code",
   "execution_count": 495,
   "metadata": {},
   "outputs": [
    {
     "name": "stdout",
     "output_type": "stream",
     "text": [
      "166\n"
     ]
    }
   ],
   "source": [
    "# small\n",
    "import pandas as pd\n",
    "dev_ratio=0.1\n",
    "total_test_num=len(X_test_indices)\n",
    "dev_num = int(dev_ratio * len(X_test_indices))\n",
    "X_dev_indices = []\n",
    "print (dev_num)\n",
    "dev_index=(np.random.random([dev_num])*total_test_num).astype(int)\n",
    "\n",
    "X_dev_indices=X_test_indices[dev_index,:]\n",
    "X_dev = X_test[dev_index]\n",
    "Y_dev = Y_test[dev_index]\n",
    "\n",
    "X_test_after_dev=np.delete(X_test,dev_index,0)\n",
    "Y_test_after_dev=np.delete(Y_test,dev_index,0)\n",
    "\n",
    "# test after dev\n",
    "test_after_dev={'X': X_test_after_dev, 'Y': Y_test_after_dev}\n",
    "test_after_dev = pd.DataFrame(test_after_dev)\n",
    "test_after_dev.to_csv('test_minus_dev.csv',header=False,index=False)\n",
    "\n",
    "# dev\n",
    "dev={'X': X_dev, 'Y': Y_dev}\n",
    "dev = pd.DataFrame(dev)\n",
    "dev.to_csv('dev.csv',header=False,index=False)"
   ]
  },
  {
   "cell_type": "code",
   "execution_count": 496,
   "metadata": {},
   "outputs": [
    {
     "name": "stdout",
     "output_type": "stream",
     "text": [
      "166\n"
     ]
    }
   ],
   "source": [
    "# big\n",
    "X_test, Y_test = read_csv('data/test-big.csv')\n",
    "\n",
    "# small\n",
    "import pandas as pd\n",
    "dev_ratio=0.1\n",
    "total_test_num=len(X_test_indices)\n",
    "dev_num = int(dev_ratio * len(X_test_indices))\n",
    "X_dev_indices = []\n",
    "print (dev_num)\n",
    "dev_index=(np.random.random([dev_num])*total_test_num).astype(int)\n",
    "\n",
    "X_dev_indices=X_test_indices[dev_index,:]\n",
    "X_dev = X_test[dev_index]\n",
    "Y_dev = Y_test[dev_index]\n",
    "\n",
    "X_test_after_dev=np.delete(X_test,dev_index,0)\n",
    "Y_test_after_dev=np.delete(Y_test,dev_index,0)\n",
    "\n",
    "# test after dev\n",
    "test_after_dev={'X': X_test_after_dev, 'Y': Y_test_after_dev}\n",
    "test_after_dev = pd.DataFrame(test_after_dev)\n",
    "test_after_dev.to_csv('test_minus_dev_big.csv',header=False,index=False)\n",
    "\n",
    "# dev\n",
    "dev={'X': X_dev, 'Y': Y_dev}\n",
    "dev = pd.DataFrame(dev)\n",
    "dev.to_csv('dev_big.csv',header=False,index=False)"
   ]
  },
  {
   "cell_type": "code",
   "execution_count": 391,
   "metadata": {},
   "outputs": [
    {
     "name": "stdout",
     "output_type": "stream",
     "text": [
      "9908\n"
     ]
    }
   ],
   "source": [
    "# big\n",
    "X_train, Y_train = read_csv('data/train-big.csv')\n",
    "\n",
    "# small\n",
    "import pandas as pd\n",
    "ratio=0.1\n",
    "total_train_num=len(X_train)\n",
    "train_num = int(ratio * total_train_num)\n",
    "print (train_num)\n",
    "train_index=(np.random.random([train_num])*total_train_num).astype(int)\n",
    "\n",
    "X_train=X_train[train_index]\n",
    "Y_train = Y_train[train_index]\n",
    "\n",
    "# train \n",
    "X_train_shrink={'X': X_train, 'Y': Y_train}\n",
    "X_train_shrink = pd.DataFrame(X_train_shrink)\n",
    "X_train_shrink.to_csv('train_shrink.csv',sep=',',header=False,index=False)"
   ]
  },
  {
   "cell_type": "code",
   "execution_count": 393,
   "metadata": {},
   "outputs": [
    {
     "name": "stdout",
     "output_type": "stream",
     "text": [
      "38\n"
     ]
    }
   ],
   "source": [
    "maxLen = len(max(X_train, key=len).split())\n",
    "print(maxLen)"
   ]
  },
  {
   "cell_type": "markdown",
   "metadata": {},
   "source": [
    "# Plot the accuracy history during the training"
   ]
  },
  {
   "cell_type": "code",
   "execution_count": 614,
   "metadata": {
    "collapsed": true
   },
   "outputs": [],
   "source": [
    "import matplotlib.pyplot as plt\n",
    "%matplotlib inline"
   ]
  },
  {
   "cell_type": "code",
   "execution_count": 616,
   "metadata": {},
   "outputs": [],
   "source": [
    "history_acc_percentage=np.array(model_fitting.history['acc'][:20])*100\n",
    "history_dev_percentage=np.array(model_fitting.history['val_acc'][:20])*100"
   ]
  },
  {
   "cell_type": "code",
   "execution_count": 617,
   "metadata": {},
   "outputs": [
    {
     "data": {
      "image/png": "[encoded data removed]",
      "text/plain": [
       "<matplotlib.figure.Figure at 0x422676a10>"
      ]
     },
     "metadata": {},
     "output_type": "display_data"
    }
   ],
   "source": [
    "fig = plt.gcf()\n",
    "fig.set_size_inches(10.5, 6.5)\n",
    "\n",
    "word_train,=plt.plot(history_acc_percentage, linewidth=2,color='blue',linestyle='-',label='Word model train acc')\n",
    "word_dev,=plt.plot(history_dev_percentage, linewidth=2,color='blue',linestyle='--',label='Word model dev acc')\n",
    "plt.xlabel('# of Epoch',fontsize=16)\n",
    "plt.ylabel('Accuracy (%)',fontsize=16)\n",
    "plt.title('Accuracy Improvement',fontsize=16)\n",
    "plt.legend(handles=[word_train,word_dev],fontsize=12,loc=4)\n",
    "\n",
    "plt.show()\n",
    "fig.savefig('test2png.png', dpi=100)"
   ]
  },
  {
   "cell_type": "code",
   "execution_count": null,
   "metadata": {
    "collapsed": true
   },
   "outputs": [],
   "source": []
  },
  {
   "cell_type": "code",
   "execution_count": null,
   "metadata": {
    "collapsed": true
   },
   "outputs": [],
   "source": []
  },
  {
   "cell_type": "code",
   "execution_count": 501,
   "metadata": {},
   "outputs": [
    {
     "data": {
      "text/plain": [
       "4914"
      ]
     },
     "execution_count": 501,
     "metadata": {},
     "output_type": "execute_result"
    }
   ],
   "source": [
    "sum(Y_train)"
   ]
  },
  {
   "cell_type": "code",
   "execution_count": null,
   "metadata": {
    "collapsed": true
   },
   "outputs": [],
   "source": []
  },
  {
   "cell_type": "code",
   "execution_count": null,
   "metadata": {
    "collapsed": true
   },
   "outputs": [],
   "source": []
  },
  {
   "cell_type": "code",
   "execution_count": null,
   "metadata": {
    "collapsed": true
   },
   "outputs": [],
   "source": []
  }
 ],
 "metadata": {
  "kernelspec": {
   "display_name": "Python 2",
   "language": "python",
   "name": "python2"
  },
  "language_info": {
   "codemirror_mode": {
    "name": "ipython",
    "version": 2
   },
   "file_extension": ".py",
   "mimetype": "text/x-python",
   "name": "python",
   "nbconvert_exporter": "python",
   "pygments_lexer": "ipython2",
   "version": "2.7.14"
  }
 },
 "nbformat": 4,
 "nbformat_minor": 1
}
