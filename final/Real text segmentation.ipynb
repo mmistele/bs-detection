{
 "cells": [
  {
   "cell_type": "code",
   "execution_count": 1,
   "metadata": {
    "collapsed": false
   },
   "outputs": [
    {
     "ename": "ImportError",
     "evalue": "No module named tensorflow",
     "output_type": "error",
     "traceback": [
      "\u001b[0;31m---------------------------------------------------------------------------\u001b[0m",
      "\u001b[0;31mImportError\u001b[0m                               Traceback (most recent call last)",
      "\u001b[0;32m<ipython-input-1-73f6f7a88d37>\u001b[0m in \u001b[0;36m<module>\u001b[0;34m()\u001b[0m\n\u001b[1;32m      1\u001b[0m \u001b[0;32mimport\u001b[0m \u001b[0mpandas\u001b[0m \u001b[0;32mas\u001b[0m \u001b[0mpd\u001b[0m\u001b[0;34m\u001b[0m\u001b[0m\n\u001b[1;32m      2\u001b[0m \u001b[0;32mimport\u001b[0m \u001b[0mnumpy\u001b[0m \u001b[0;32mas\u001b[0m \u001b[0mnp\u001b[0m\u001b[0;34m\u001b[0m\u001b[0m\n\u001b[0;32m----> 3\u001b[0;31m \u001b[0;32mimport\u001b[0m \u001b[0mtensorflow\u001b[0m \u001b[0;32mas\u001b[0m \u001b[0mtf\u001b[0m\u001b[0;34m\u001b[0m\u001b[0m\n\u001b[0m",
      "\u001b[0;31mImportError\u001b[0m: No module named tensorflow"
     ]
    }
   ],
   "source": [
    "import pandas as pd\n",
    "import numpy as np\n",
    "import tensorflow as tf"
   ]
  },
  {
   "cell_type": "markdown",
   "metadata": {},
   "source": [
    "## Pharagraph breaker"
   ]
  },
  {
   "cell_type": "code",
   "execution_count": 141,
   "metadata": {
    "collapsed": false
   },
   "outputs": [],
   "source": [
    "with open('Simple corpus for testing.txt', 'r') as f:\n",
    "    data_txt_raw = f.read().split('\\n')\n",
    "f.close()"
   ]
  },
  {
   "cell_type": "code",
   "execution_count": 142,
   "metadata": {
    "collapsed": false
   },
   "outputs": [],
   "source": [
    "for sentence in data_txt_raw:\n",
    "    if len(sentence)<=2:\n",
    "        data_txt_raw.remove(sentence)"
   ]
  },
  {
   "cell_type": "code",
   "execution_count": 143,
   "metadata": {
    "collapsed": false
   },
   "outputs": [
    {
     "name": "stdout",
     "output_type": "stream",
     "text": [
      "(33,)\n"
     ]
    }
   ],
   "source": [
    "num_sentence=len(data_txt_raw)\n",
    "labels=np.ones([1,num_sentence]).squeeze()\n",
    "#print labels.shape\n",
    "data_txt=np.transpose(data_txt_raw).reshape([1,num_sentence]).squeeze()\n",
    "index_df=np.array(range(num_sentence)).reshape([1,num_sentence]).squeeze()\n",
    "print np.shape(index_df)"
   ]
  },
  {
   "cell_type": "code",
   "execution_count": 144,
   "metadata": {
    "collapsed": false
   },
   "outputs": [
    {
     "name": "stdout",
     "output_type": "stream",
     "text": [
      "    Labels                                           Sentence\n",
      "0      1.0  Building contractors are challenged to constru...\n",
      "1      1.0  There are two primary types of cranes used for...\n",
      "2      1.0  This paper concerns mobile cranes. The most co...\n",
      "3      1.0  Construction managers make several important d...\n",
      "4      1.0  This paper presents a new method to optimize c...\n",
      "5      1.0  Significant research has been done to optimize...\n",
      "6      1.0                      1.1. Tower crane optimization\n",
      "7      1.0  Tam et al. [7] used a genetic algorithm to opt...\n",
      "8      1.0  Lien and Cheng [10] developed a particle-bee a...\n",
      "9      1.0                     1.2. Mobile crane optimization\n",
      "10     1.0  Mobile cranes have distinct mechanics compared...\n",
      "11     1.0  Mobile crane planning typically involves the c...\n",
      "12     1.0  The second type of mobile crane planning invol...\n",
      "13     1.0  Despite this significant research on mobile cr...\n",
      "14     1.0  Three experiments were conducted: (1) a compar...\n",
      "15     1.0  4.2.1. Impact of crane and crew decision sequence\n",
      "16     1.0  Four optimization runs were completed to compa...\n",
      "17     1.0  The solutions that minimize construction time ...\n",
      "18     1.0  More significant differences are observed when...\n",
      "19     1.0       4.2.2. Comparison with conventional practice\n",
      "20     1.0  We asked an experienced construction managemen...\n",
      "21     1.0  Based on the principles provided, we performed...\n",
      "22     1.0  Regarding the solutions with the objective of ...\n",
      "23     1.0  Regarding the solutions with the objective of ...\n",
      "24     1.0  4.2.3. Relative impact of crane and crew decis...\n",
      "25     1.0  A total of 24 different optimization runs were...\n",
      "26     1.0  A sensitivity analysis was performed for all d...\n",
      "27     1.0  Crew number has the largest impact on installa...\n",
      "28     1.0  Crew size has the second largest impact on ins...\n",
      "29     1.0  Number of crane stops has the largest impact o...\n",
      "30     1.0  more frequently enables the crane to be positi...\n",
      "31     1.0  Crane type has the fourth largest impact on in...\n",
      "32     1.0                                                   \n"
     ]
    }
   ],
   "source": [
    "para_with_label = pd.DataFrame({'Labels': labels,'Sentence': data_txt},index=index_df)\n",
    "print para_with_label"
   ]
  },
  {
   "cell_type": "markdown",
   "metadata": {},
   "source": [
    "## Sentence breaker"
   ]
  },
  {
   "cell_type": "code",
   "execution_count": 189,
   "metadata": {
    "collapsed": false
   },
   "outputs": [
    {
     "name": "stdout",
     "output_type": "stream",
     "text": [
      "Building contractors are challenged to construct facilities safely, economically, and often in the shortest possible time. Some of the most important construction activities rely on cranes. Cranes play a critical role in transporting requisite materials and components to workers onsite but are also very costly pieces of equipment to acquire and operate. The efficiency of crane operation, therefore, significantly impacts the total project construction cost and time [1].\n",
      "end of line\n",
      "\n",
      "end of line\n",
      "There are two primary types of cranes used for building construction: tower cranes and mobile cranes. Tower cranes have a large fixed base that is constructed on the ground, enabling them to operate at heights suitable for tall building construction [2].  Typically tower cranes also have a horizontal rotating jib that is supported by a mast.  A slewing unit enables the hook to travel horizontally on the jib to access supply and demand points.\n",
      "end of line\n",
      "\n",
      "end of line\n",
      "This paper concerns mobile cranes. The most common types of mobile cranes are truck mounted or deck cranes that have an extendable boom mounted on a wheeled chassis. Operators can change the boom angle vertically or rotate the boom to reach the job site. Provided they have sufficient operating height and lifting capacity, mobile cranes are generally preferred to tower cranes because they require less space on site, can be moved more quickly, and are generally less expensive to operate [3].  Mobile cranes are typically deployed for low-rise projects that do not require lifting within the building envelope.\n",
      "end of line\n",
      "\n",
      "end of line\n",
      "Construction managers make several important decisions that determine how efficiently a mobile crane can operate given a set of functional and spatial requirements: first, the selection of the type of crane, which determines its capacity, speed, and cost; second, the number and location of stops that the crane chassis will make, which impacts the amount of time the crane hook is moving (hook time) as well as site safety [4]; third, the location of the supply point(s) from which the crane will pick up materials and deliver them to demand points; finally, the sequence in which these materials are transported from supply to demand points.  As the availability of workers at the demand point is one of the leading causes of crane waiting [5], all of these decisions must be synchronized with the construction crew(s) using the materials at the demand point(s) [6].\n",
      "end of line\n",
      "\n",
      "end of line\n",
      "This paper presents a new method to optimize crane and crew in parallel to best achieve project cost and schedule objectives.  Section 2 summarizes existing optimization methods for tower and mobile cranes and their observed limitations in considering both crane and crew decisions simultaneously. The proposed optimization problem formulation is presented in Section 3. The method to optimize the type and movements of the mobile crane as well as the installation sequence and number and size of crews at the demand point is described in Sections 4.  Section 5 demonstrates the application of the proposed method to the installation of a curtain wall system for a mid-rise office building.  Finally, Section 6 summarizes the method’s results as well as the practical and theoretical contributions of this work.\n",
      "end of line\n",
      "\n",
      "end of line\n",
      "\n",
      "end of line\n",
      "Significant research has been done to optimize crane selection and operation in order minimize construction time and / or cost. This work can be decomposed into two general areas based on whether a tower or mobile crane is used.\n",
      "end of line\n",
      "1.1. Tower crane optimization\n",
      "end of line\n",
      "Tam et al. [7] used a genetic algorithm to optimize the location of the tower crane and the component supply points in order to minimize the total crane hook travel time (“hook time”). Huang et al [8] developed a mixed-integer linear programming method to solve the same problem with a better result, reducing hook travel time by 7% compared to results obtained by Tam et al. Abdelmegid et al. [1] also utilized a genetic algorithm to optimize the location of a single tower crane assuming fixed supply points to minimize hook time. Finally, Zhang et al. [9] developed a method to optimize the location of multiple tower cranes to minimize hook time. Each crane was responsible for servicing a particular set of supply and demand points. Utilizing hook time as a surrogate for cost, however, has certain limitations. First, it does not consider the type of crane used, which determines crane performance and cost [9]. Second, it does not consider crew availability at the demand point, which is one of the leading causes of crane waiting [5].\n",
      "end of line\n",
      "Lien and Cheng [10] developed a particle-bee algorithm to optimize the location of the tower crane as well as the supply and demand points. The objective of the optimization method presented was to minimize the total operating time for the crane, including the time required to set up and demount the crane. Construction cost was assessed by multiplying the crane operating time by the equipment rental and operator labor rates. While Lien and Cheng’s approach includes a more comprehensive cost model compared to the methods discussed previously, it does not consider the interactions between the crane and crew at the demand point. Moreover, the crane type and the number and size of work crews operating at the demand point are not included as decision variables in the optimization process.\n",
      "end of line\n",
      "1.2. Mobile crane optimization\n",
      "end of line\n",
      "Mobile cranes have distinct mechanics compared to tower cranes, as discussed in the introduction. Thus, the development of an operating plan for mobile cranes requires additional decisions that are not required for tower cranes, namely the path of how the mobile crane moves, the number of stops that the crane will make, and the corresponding locations.\n",
      "end of line\n",
      "Mobile crane planning typically involves the crane chassis moving with or without a payload. First, let’s consider when the crane moves without a payload. Al-Hussein et al. [11] developed an algorithm to optimize the selection of the type of mobile crane based on construction site requirements. The same authors later developed an improved method that optimized both crane type and the stop location considering the site condition and crane configuration [12]. Tantisevi and Akinci [4] developed a similar method that also considers the time required to set up and demount the crane at each stop. Finally, Manrique et al. [13] developed a method to optimize crane type, stop location(s), and the transportation sequence for building components to minimize construction duration and the amount of concrete used for the casting slabs. The method was applied to an example project involving the installation of 108 concrete panels for a residential building. The best solution found reduced the amount of concrete required for casting slabs by 14% compared to conventional industry methods. However, the all of the methods discussed above do not assess construction cost directly or consider the interaction of the crane with the installation crew at the demand point.\n",
      "end of line\n",
      "The second type of mobile crane planning involves the crane moving with a payload. Reddy and Varghese [14] use a configurations space or “C-space” to denote the start and end crane configurations, including the crane chassis location, the angle of the boom, etc. Two rapidly exploring random trees (RRTs) with roots at the start and end configurations are generated to find the shortest connect path through a heuristic search method. The shortest connect path is the optimal crane path and operations. Lin [15] improved the heuristic search method by combing a sampling and an expansion technique, and also by developing a method to visualize the crane movements. Lei et al [16] developed a generic approach to check the feasibility of mobile crane path, and calculate the maximum and minimum radii for crane considering the crane capacity and configuration. Lei et al [17] used the algorithm developed by Al-Hussein [11] to illustrate how crane type would affect the optimal walking path of the crane. The objective of the optimization was to identify the crane-walking path that resulted in the minimum number of spatial conflicts with physical obstacles and ongoing construction activities.\n",
      "end of line\n",
      "Despite this significant research on mobile crane planning, none of the methods discussed above enable crane and crew planning to be optimized in parallel. Also, construction time and cost are seldom optimized simultaneously. The proposed method addresses these limitations by developing an optimization method that (1) considers crane and crew interaction and (2) enables construction time and cost to be minimized simultaneously.\n",
      "end of line\n",
      "\n",
      "end of line\n",
      "Three experiments were conducted: (1) a comparison between the optimal crane/crew strategies optimized in parallel and those in sequence, and (2) a comparison between optimization results and conventional industry practice, and (3) a parameter sensitive analysis. The first experiment is designed to quantify the impact of considering crane and crew strategies in parallel on construction time and cost. The parameter sensitivity analysis is intended to quantify the relative impact of each variable on the optimization objectives.\n",
      "end of line\n",
      "4.2.1. Impact of crane and crew decision sequence\n",
      "end of line\n",
      "Four optimization runs were completed to compare the cost and schedule impact from considering crane and crew decisions in parallel versus sequentially. The first two runs optimized crane and crew decisions in parallel, one with the objective of minimizing construction time and the second with the objective of minimizing construction cost. Runs three and four had the same optimization objectives but considered crane and crew decisions sequentially. The variable configuration and resulting cost and schedule performance for each optimal design is presented in Table 4.\n",
      "end of line\n",
      "The solutions that minimize construction time are similar whether decisions are considered in parallel or sequentially: both use the more expensive deck crane, the highest number of crews (2), and the largest crew size (4 people). However, a diagonal panel installation sequence is employed when decisions are considered in parallel rather than horizontal sequence. Additionally, the optimal crane position was slightly different in each case. The diagonal sequence enables two crews to work in parallel when installing adjacent panels, which is not possible in the panels are installed in a horizontal sequence. Consequently, considering crane and crew decisions in parallel results in a 1.7% reduction in total construction time.\n",
      "end of line\n",
      "More significant differences are observed when comparing minimum cost solutions. Both solutions employ the minimum number of crews (1) and crew size (2 people). However, when decisions are considered in parallel, the optimal design solution employs a truck mounted crane instead of a deck crane (see Table 4). As a result, the total construction time is 0.7% higher, but the total cost is 16.3% lower due to the substantially lower crane rental cost. Upon inspection of the cycle times for crane and crew, it is apparent that crew speed is the limiting factor for nearly all panel installation cycles involving the deck crane, which negates any potential cost savings resulting from the use of a faster crane. These findings demonstrate the importance of considering crane and crew interaction when a cost optimal solution is desired.\n",
      "end of line\n",
      "4.2.2. Comparison with conventional practice\n",
      "end of line\n",
      "We asked an experienced construction management professional to plan the project regarding to the crane and crew decisions given the example project description in order to compare the results of the proposed method with conventional industry practice. The industry professional cited two scheduling principles that are standard practice in the industry: (1) the number of crane stops should be minimized to avoid setup and demounting supports; (2) the sequence of the curtain wall panel installation should be vertical to minimize the crane boom movement.\n",
      "end of line\n",
      "Based on the principles provided, we performed time construction time and cost optimizations using the proposed method with the following parameters fixed to match the industry standard scheduling rules: (1) one crane stop per wall and (2) vertical installation sequence for curtain wall panels. The optimal configuration of crane and crew strategies are shown in the columns 3 and 6 in Table 4.\n",
      "end of line\n",
      "Regarding the solutions with the objective of minimizing construction time, the conventional practice solution shares the same crew configurations and crane type with optimal solution generated by the proposed method. However, the number of stops and installation sequence are both different. As a result, the construction duration takes 20% longer for the conventional practice method compared with the proposed method.\n",
      "end of line\n",
      "Regarding the solutions with the objective of minimizing construction cost, the crew size and number are identical for both conventional practice and the proposed method. However, the crane type, number of stops, and the installation sequence are different. Thus, the construction cost for conventional practice method is at most 41% higher than the proposed method. This comparison demonstrates the potential of the proposed method to significantly reduce construction time and cost compared to conventional industry practice.\n",
      "end of line\n",
      "4.2.3. Relative impact of crane and crew decisions\n",
      "end of line\n",
      "A total of 24 different optimization runs were performed involving different combinations of the following variables: crane type, number of crane stops, panel installation sequence, number of crews, and crew size. The crane position at each stop was optimized using a MOGA for each configuration of the above variables as described in Section 3.6. All six decision variables impact the total time and cost of the panel installation process. The cost-time tradeoffs for all variable configurations considered are shown in Figure 7. The installation time varied by 25% while the cost varied by over 100% depending on the optimization variable configurations. The effect of considering crane and crew decisions in parallel versus sequentially, as well as the relative impact of these decisions, is discussed in the following two sections.\n",
      "end of line\n",
      "A sensitivity analysis was performed for all decisions variables in the optimization process to assess the relative impact of each variable on construction cost and schedule performance. For each variable, the variation in each objective function resulting from perturbing that variable while holding the remaining variables constant was recorded. This ratio is called the max impact ratio. The results of this analysis are shown in Figure 6. A discussion of the results by variable is included below.\n",
      "end of line\n",
      "\n",
      "end of line\n",
      "Crew number has the largest impact on installation cost and the second largest impact on installation time. As shown in Figure 6, changing the number of crews can lead to as much as an 18% time difference and a 39% cost difference. Employing multiple crews saves traveling time—while one crew is installing panels, the other(s) can move to the next demand point. However, there is a substantial cost premium to employing additional crews.\n",
      "end of line\n",
      "\n",
      "end of line\n",
      "Crew size has the second largest impact on installation cost and the fourth largest impact on time. The installation time with two people per crew can be up to 13% longer than when four people per crew are employed while the cost associated with a four-person crew can be up to 38% more than that of two people per crew.\n",
      "end of line\n",
      "\n",
      "end of line\n",
      "Number of crane stops has the largest impact on installation time, and the third largest impact on cost. Making eight stops takes 20% less time than making four stops when all other parameters are held constant. Stopping \n",
      "end of line\n",
      "more frequently enables the crane to be positioned closer to the supply and demand points which significantly reduces hook travel time. In this example, the time saved exceeds the additional time required to relocate the crane.\n",
      "end of line\n",
      "\n",
      "end of line\n",
      "Crane type has the fourth largest impact on installation cost but very little influence on installation time. Although changing the crane type only results in approximately a 1% change in installation time, the cost impact can be as high as 20%. The cost difference can be attributed to the differences in the rental rates: the rental rate for the deck crane is approximately 30% higher than the truck crane. As illustrated in Figure 8, the deck crane results in a higher cost and a slightly lower installation time for all variable configurations, except for when one crew with four workers per crew is employed. In this case, the faster deck crane can reduce the installation time by a wide enough margin to more than compensate for the higher cost of this equipment.\n",
      "end of line\n"
     ]
    }
   ],
   "source": [
    "data_txt_raw=[]\n",
    "with open('Simple corpus for testing.txt', 'r') as f:\n",
    "    for line in f: # split the file into paragraph by '\\n'\n",
    "        if '\\n' in line:\n",
    "            line.replace(\"\\n\", \"\")\n",
    "        data_txt_raw+=line.split('. ') # split the paragraph into sentence by '.'\n",
    "f.close()"
   ]
  },
  {
   "cell_type": "code",
   "execution_count": 187,
   "metadata": {
    "collapsed": false,
    "scrolled": false
   },
   "outputs": [],
   "source": [
    "data_txt=[]\n",
    "for sentence in data_txt_raw:\n",
    "    #print sentence+str(len(sentence))\n",
    "    if len(sentence)<=3:\n",
    "        continue\n",
    "    if sentence is '\\n':\n",
    "        continue\n",
    "    data_txt.append(sentence)"
   ]
  },
  {
   "cell_type": "code",
   "execution_count": 176,
   "metadata": {
    "collapsed": false
   },
   "outputs": [],
   "source": [
    "num_sentence=len(data_txt)\n",
    "labels=np.ones([1,num_sentence]).squeeze()\n",
    "#print labels.shape\n",
    "data_txt=np.transpose(data_txt).reshape([1,num_sentence]).squeeze()\n",
    "index_df=np.array(range(num_sentence)).reshape([1,num_sentence]).squeeze()"
   ]
  },
  {
   "cell_type": "code",
   "execution_count": 177,
   "metadata": {
    "collapsed": false
   },
   "outputs": [],
   "source": [
    "sent_with_label = pd.DataFrame({'Labels': labels,'Sentence': data_txt},index=index_df)\n",
    "#print sent_with_label"
   ]
  },
  {
   "cell_type": "code",
   "execution_count": 178,
   "metadata": {
    "collapsed": false
   },
   "outputs": [],
   "source": [
    "output_file='sentence.txt'\n",
    "output_list=data_txt\n",
    "thefile = open(output_file, 'w')\n",
    "for item in output_list:\n",
    "    thefile.write(\"%s.\\n\" %item)"
   ]
  },
  {
   "cell_type": "code",
   "execution_count": 179,
   "metadata": {
    "collapsed": true
   },
   "outputs": [],
   "source": [
    "output_file='labels.txt'\n",
    "output_list=labels\n",
    "thefile = open(output_file, 'w')\n",
    "for item in output_list:\n",
    "    thefile.write(\"%d\\n\" %int(item))"
   ]
  },
  {
   "cell_type": "code",
   "execution_count": null,
   "metadata": {
    "collapsed": true
   },
   "outputs": [],
   "source": []
  }
 ],
 "metadata": {
  "kernelspec": {
   "display_name": "Python 2",
   "language": "python",
   "name": "python2"
  },
  "language_info": {
   "codemirror_mode": {
    "name": "ipython",
    "version": 2
   },
   "file_extension": ".py",
   "mimetype": "text/x-python",
   "name": "python",
   "nbconvert_exporter": "python",
   "pygments_lexer": "ipython2",
   "version": "2.7.11"
  }
 },
 "nbformat": 4,
 "nbformat_minor": 0
}
